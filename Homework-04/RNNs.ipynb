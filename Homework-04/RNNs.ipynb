{
  "nbformat": 4,
  "nbformat_minor": 0,
  "metadata": {
    "colab": {
      "provenance": [],
      "gpuType": "T4",
      "authorship_tag": "ABX9TyN3UDHaJj+Q4oz/3uFU+/Uz",
      "include_colab_link": true
    },
    "kernelspec": {
      "name": "python3",
      "display_name": "Python 3"
    },
    "language_info": {
      "name": "python"
    }
  },
  "cells": [
    {
      "cell_type": "markdown",
      "metadata": {
        "id": "view-in-github",
        "colab_type": "text"
      },
      "source": [
        "<a href=\"https://colab.research.google.com/github/csch7/CSCI-4170/blob/main/Homework-04/RNNs.ipynb\" target=\"_parent\"><img src=\"https://colab.research.google.com/assets/colab-badge.svg\" alt=\"Open In Colab\"/></a>"
      ]
    },
    {
      "cell_type": "markdown",
      "source": [
        "# Homework 04\n",
        "## Author: Colin Scherer\n",
        "\n",
        "### **Task 2: RNNs**"
      ],
      "metadata": {
        "id": "NKdzl_h_7qYH"
      }
    },
    {
      "cell_type": "code",
      "execution_count": 138,
      "metadata": {
        "id": "R9icJg6o8wgw",
        "colab": {
          "base_uri": "https://localhost:8080/"
        },
        "outputId": "5f537c55-8784-4540-b67a-d4829a0dd69e"
      },
      "outputs": [
        {
          "output_type": "stream",
          "name": "stdout",
          "text": [
            "Drive already mounted at /content/drive; to attempt to forcibly remount, call drive.mount(\"/content/drive\", force_remount=True).\n"
          ]
        }
      ],
      "source": [
        "import numpy as np\n",
        "import pandas as pd\n",
        "import re\n",
        "import torch\n",
        "import matplotlib.pyplot as plt\n",
        "from google.colab import drive\n",
        "\n",
        "drive.mount('/content/drive')\n",
        "df = pd.read_csv(\"/content/drive/MyDrive/Colab Notebooks/YoutubeCommentsDataSet.csv\")\n",
        "\n",
        "# Used for balancing the dataset\n",
        "def load_dataset(dat, tar):\n",
        "  vals, cts = np.unique(tar, return_counts=True)\n",
        "  min_val = vals[np.argmin(cts)]\n",
        "  min_ct = min(cts)\n",
        "  new_dat = dat[tar == min_val]\n",
        "  new_tar = tar[tar == min_val]\n",
        "  for i, v in enumerate(vals):\n",
        "    if v != min_val:\n",
        "      indices = list(np.where(tar == v))[0]\n",
        "      new_ind = np.random.choice(indices, min_ct)\n",
        "      new_dat = np.append(new_dat, dat[new_ind], axis=0)\n",
        "      new_tar = np.append(new_tar, tar[new_ind])\n",
        "  return new_dat, new_tar\n",
        "\n",
        "# Cleans text\n",
        "def clean_text(text):\n",
        "    text = str(text).lower() # Ensure no duplicate word embeddings due to capital letters\n",
        "    text = re.sub(r\"http\\S+|www\\S+\", \"\", text)  # Remove urls\n",
        "    text = re.sub(r\"@\\w+\", \"\", text)              # Remove mentions\n",
        "    text = re.sub(r\"[^a-z0-9' ]\", \"\", text)       # Remove special characters\n",
        "    text = re.sub(r\"\\s+\", \" \", text).strip()      # Remove extra spaces\n",
        "    return text\n",
        "\n",
        "df[\"Cleaned\"] = df[\"Comment\"].apply(clean_text)\n"
      ]
    },
    {
      "cell_type": "code",
      "source": [
        "print(\"Data counts initially:\")\n",
        "print(df.count(axis=0))\n",
        "df.dropna(axis=0, inplace = True)\n",
        "print(\"\\n Data counts after dropped empty comments:\")\n",
        "print(df.count(axis=0))\n",
        "df = df.drop_duplicates(subset = \"Cleaned\")\n",
        "print(\"\\n Data counts after dropped duplicates:\")\n",
        "print(df.count(axis=0))"
      ],
      "metadata": {
        "colab": {
          "base_uri": "https://localhost:8080/"
        },
        "id": "DRDyHtn7tDZ7",
        "outputId": "fac817f8-6951-42a6-ed29-25dfdad24605"
      },
      "execution_count": 139,
      "outputs": [
        {
          "output_type": "stream",
          "name": "stdout",
          "text": [
            "Data counts initially:\n",
            "Comment      18364\n",
            "Sentiment    18408\n",
            "Cleaned      18408\n",
            "dtype: int64\n",
            "\n",
            " Data counts after dropped empty comments:\n",
            "Comment      18364\n",
            "Sentiment    18364\n",
            "Cleaned      18364\n",
            "dtype: int64\n",
            "\n",
            " Data counts after dropped duplicates:\n",
            "Comment      17635\n",
            "Sentiment    17635\n",
            "Cleaned      17635\n",
            "dtype: int64\n"
          ]
        }
      ]
    },
    {
      "cell_type": "code",
      "source": [
        "def split(s):\n",
        "  return s.split(' ')\n",
        "\n",
        "df['Lengths'] = df[\"Cleaned\"].apply(split)\n",
        "df['Lengths'] = df['Lengths'].apply(len)\n",
        "\n",
        "plt.hist(df['Lengths'],bins=100)\n",
        "plt.xlim(0,300)\n",
        "plt.ylabel(\"Counts\")\n",
        "plt.xlabel(\"Comment length (words)\")\n",
        "plt.title(\"Histogram of comment lengths\")\n",
        "plt.show()\n",
        "\n",
        "print(\"Average length: {:.2f}\".format(np.mean(df['Lengths'])))\n",
        "print(\"Median length: {:.2f}\".format(np.median(df['Lengths'])))\n",
        "print(\"Percent over length 100: {:.4f}\".format(df[df['Lengths'] > 100].shape[0]/df.shape[0]))"
      ],
      "metadata": {
        "id": "HVlNyS_a_biL",
        "outputId": "5b9dd42e-8d47-44a6-f2d8-403cc91ecb84",
        "colab": {
          "base_uri": "https://localhost:8080/",
          "height": 524
        }
      },
      "execution_count": 140,
      "outputs": [
        {
          "output_type": "display_data",
          "data": {
            "text/plain": [
              "<Figure size 640x480 with 1 Axes>"
            ],
            "image/png": "[encoded data removed]"
          },
          "metadata": {}
        },
        {
          "output_type": "stream",
          "name": "stdout",
          "text": [
            "Average length: 33.21\n",
            "Median length: 21.00\n",
            "Percent over length 100: 0.0438\n"
          ]
        }
      ]
    },
    {
      "cell_type": "code",
      "source": [
        "print(np.unique(df['Sentiment'], return_counts = True))"
      ],
      "metadata": {
        "id": "_ApNJZw2AtSm",
        "outputId": "a7a64e04-d33f-488d-a38b-b26ecffe3f2b",
        "colab": {
          "base_uri": "https://localhost:8080/"
        }
      },
      "execution_count": 141,
      "outputs": [
        {
          "output_type": "stream",
          "name": "stdout",
          "text": [
            "(array(['negative', 'neutral', 'positive'], dtype=object), array([ 2316,  4320, 10999]))\n"
          ]
        }
      ]
    },
    {
      "cell_type": "markdown",
      "source": [
        "From above, the sentiments are highly unbalanced, with positive comments making up the majority. Because of this, I will stratify my dataset by sentiment. The histogram also demonstrates that the percent of comments over length 100 is less than 5%, so I can safely use that as my maximum comment length, so that there isn't too much padding."
      ],
      "metadata": {
        "id": "xR61iKaHEQQu"
      }
    },
    {
      "cell_type": "code",
      "source": [
        "from sklearn.model_selection import train_test_split\n",
        "\n",
        "comments = df['Cleaned']\n",
        "labels = np.array(df['Sentiment'])\n",
        "labels[labels == 'positive'] = 2\n",
        "labels[labels == 'neutral'] = 1\n",
        "labels[labels == 'negative'] = 0\n",
        "labels = np.array(labels, dtype=np.uint8)\n",
        "comments = np.array(comments)\n",
        "\n",
        "comments = [comment.split() for comment in comments]\n",
        "vocab = set([word for comment in comments for word in comment])\n",
        "vocab = {word: idx+1 for idx, word in enumerate(vocab)} # Create word encodings with dictionary\n",
        "vocab['<0>'] = 0 # Add padding value to dictionary\n",
        "max_len = 100 # Set maximumm comment length equal to 100. From the above distribution, this won't truncate many comments.\n",
        "\n",
        "padded_comments = []\n",
        "for comment in comments:\n",
        "    if len(comment) > max_len:\n",
        "        padded_comments.append(comment[:max_len])\n",
        "    else:\n",
        "        padded_comments.append(comment + ['<0>'] * (max_len - len(comment)))\n",
        "\n",
        "encoded_comments = [[vocab[word] for word in comment] for comment in padded_comments]\n",
        "\n",
        "# Split dataset into 3:1:1 ratio of train:val:test\n",
        "X_train, X_test, y_train, y_test = train_test_split(encoded_comments, labels, test_size=0.2, random_state=42, stratify=labels)\n",
        "X_train, X_val, y_train, y_val = train_test_split(X_train, y_train, test_size=0.25, random_state=42, stratify=y_train)\n",
        "\n",
        "# Ensure equal distribution of comment sentiments\n",
        "X_train, y_train = load_dataset(np.array(X_train), y_train)\n",
        "X_val, y_val = load_dataset(np.array(X_val), y_val)\n",
        "X_test, y_test = load_dataset(np.array(X_test), y_test)\n",
        "\n",
        "# Convert to tensors\n",
        "X_train = torch.tensor(X_train, dtype = torch.long)\n",
        "X_test = torch.tensor(X_test, dtype = torch.long)\n",
        "X_val = torch.tensor(X_val, dtype = torch.long)\n",
        "y_val = torch.tensor(y_val, dtype = torch.long)\n",
        "y_train = torch.tensor(y_train, dtype = torch.long)\n",
        "y_test = torch.tensor(y_test, dtype = torch.long)\n"
      ],
      "metadata": {
        "id": "8_bxJcAgE5NN"
      },
      "execution_count": 142,
      "outputs": []
    },
    {
      "cell_type": "code",
      "source": [
        "from torch import nn\n",
        "\n",
        "# Implementation for basic RNN\n",
        "class myRNN(nn.Module):\n",
        "  def __init__(self, input_dim, embed_dim, hidden_dim, output_dim):\n",
        "    super(myRNN, self).__init__()\n",
        "    self.hidden_dim = hidden_dim\n",
        "    self.embed = nn.Embedding(input_dim, embed_dim, padding_idx=0)\n",
        "    self.drop = nn.Dropout(0.3)\n",
        "    self.rnn = nn.RNN(embed_dim, hidden_dim, batch_first = True)\n",
        "    self.final = nn.Linear(hidden_dim, output_dim)\n",
        "    self.output = nn.Softmax(dim=1)\n",
        "\n",
        "  def forward(self, x):\n",
        "    em = self.embed(x)\n",
        "    dropped = self.drop(em)\n",
        "    _, res = self.rnn(dropped)\n",
        "    dropped = self.drop(res)\n",
        "    final = self.final(dropped[-1])\n",
        "    return self.output(final)\n",
        "\n",
        "\n",
        "# Implementation for LSTM\n",
        "class myLSTM(nn.Module):\n",
        "  def __init__(self, input_dim, embed_dim, hidden_dim, output_dim):\n",
        "    super().__init__()\n",
        "    self.embed = nn.Embedding(input_dim, embed_dim)\n",
        "    self.lstm = nn.LSTM(embed_dim, hidden_dim, batch_first = True)\n",
        "    self.drop = nn.Dropout(0.3)\n",
        "    self.final = nn.Linear(hidden_dim, output_dim)\n",
        "    self.output = nn.Softmax(dim=1)\n",
        "\n",
        "  def forward(self, x):\n",
        "    em = self.embed(x)\n",
        "    dropped = self.drop(em)\n",
        "    _, (res, _) = self.lstm(dropped)\n",
        "    dropped = self.drop(res)\n",
        "    final = self.final(dropped[-1])\n",
        "    return self.output(final)\n",
        "\n",
        "\n",
        "# Implementation for GRU\n",
        "class myGRU(nn.Module):\n",
        "  def __init__(self, input_dim, embed_dim, hidden_dim, output_dim):\n",
        "    super().__init__()\n",
        "    self.embed = nn.Embedding(input_dim, embed_dim)\n",
        "    self.gru = nn.GRU(embed_dim, hidden_dim, batch_first = True)\n",
        "    self.drop = nn.Dropout(0.3)\n",
        "    self.final = nn.Linear(hidden_dim, output_dim)\n",
        "    self.output = nn.Softmax(dim=1)\n",
        "\n",
        "\n",
        "  def forward(self, x):\n",
        "    em = self.embed(x)\n",
        "    dropped = self.drop(em)\n",
        "    _, res = self.gru(dropped)\n",
        "    dropped = self.drop(res)\n",
        "    final = self.final(dropped[-1])\n",
        "    return self.output(final)\n",
        "\n",
        ""
      ],
      "metadata": {
        "id": "y0hGVhzGGg3w"
      },
      "execution_count": 143,
      "outputs": []
    },
    {
      "cell_type": "markdown",
      "source": [
        "All my models have the same layer structure, besides the main RNN layer. For the activation functions, I am just using the default $\\tanh$ -- although I experimented a bit with ReLu, I didn't notice much of a performance difference. For the output layer, I am using softmax so that the probabilities of positive, neutral, and negative tones add up to 1. Since this is a sentiment detection problem, I am also using a word embedding layer, which should hopefully capture richer semantic meanings between words. I also have 2 dropout layers with $p=0.3$ -- one after the embedding layer, and one after the RNN layers. These should help reduce overfitting with both the embedding weights and the RNN weights."
      ],
      "metadata": {
        "id": "JbUUnaKCkQMT"
      }
    },
    {
      "cell_type": "code",
      "source": [
        "from torch import optim\n",
        "from sklearn.metrics import f1_score, recall_score, precision_score, accuracy_score\n",
        "from sklearn.model_selection import train_test_split\n",
        "\n",
        "def train(model, loss_fn, optimizer, X, y, X_val, y_val, X_test, epochs, val_epoch, name):\n",
        "  val_losses = []\n",
        "  train_losses = []\n",
        "  for e in range(epochs):\n",
        "    model.train()\n",
        "    e_loss = []\n",
        "    for batch in range(X.shape[0]//batch_size):\n",
        "      optimizer.zero_grad()\n",
        "      pred = model(X[batch*batch_size:(batch+1)*batch_size])\n",
        "      loss = loss_fn(pred, y[batch*batch_size:(batch+1)*batch_size])\n",
        "      e_loss.append(loss.item())\n",
        "      loss.backward()\n",
        "      optimizer.step()\n",
        "    train_losses.append(sum(e_loss)/len(e_loss))\n",
        "    print(\"Epoch {}: {:.5f}\".format(e, train_losses[-1]))\n",
        "\n",
        "    if e % val_epoch == 0:\n",
        "      model.eval()\n",
        "      with torch.no_grad():\n",
        "        pred = model(X_val)\n",
        "        loss = loss_fn(pred, y_val)\n",
        "        print(\"Validation loss: {:.5f}\".format(loss.item()))\n",
        "        print(\"Validation accuracy: {:.4f}\".format(accuracy_score(y_val, np.argmax(pred, axis=1))))\n",
        "        val_losses.append(loss.item())\n",
        "        if len(val_losses) > 12 and np.min(val_losses[-7::-1]) <= np.min(val_losses[-6:-1]):\n",
        "          break\n",
        "    print()\n",
        "  torch.save({\n",
        "      'model_state_dict': model.state_dict(),\n",
        "      'optimizer_state_dict': optimizer.state_dict(),\n",
        "      'train_losses': train_losses,\n",
        "      'valid_losses': val_losses}, \"/content/drive/MyDrive/Colab Notebooks/{}.pt\".format(name))\n",
        "\n",
        "  test_pred = None\n",
        "  model.eval()\n",
        "  with torch.no_grad():\n",
        "    test_pred = model(X_test)\n",
        "  return train_losses, val_losses, test_pred\n"
      ],
      "metadata": {
        "id": "9JHCPbPawufG"
      },
      "execution_count": 144,
      "outputs": []
    },
    {
      "cell_type": "markdown",
      "source": [
        "The metric I will use to evaluate my model is just accuracy score, although I will also report f1, recall, and precision scores. During training, validation is performed every 5 epochs, and training is stopped early if the previous 5 validation losses don't reach a minimum that was reached in the 6 validation losses before. This choice may seem arbitrary, but it required some fine-tuning: since the losses from GRU especially can be very volatile, using average losses over some epochs could stop the model well before it was ready. During training, validation accuracy is also reported, which was a good predictor for how accurate my models would be on the test set."
      ],
      "metadata": {
        "id": "Ca51tztclwBs"
      }
    },
    {
      "cell_type": "code",
      "source": [
        "from torch import optim\n",
        "from sklearn.metrics import f1_score, recall_score, precision_score, accuracy_score\n",
        "\n",
        "\n",
        "# Hyperparameters\n",
        "epochs = 300\n",
        "batch_size = 32\n",
        "val_epoch = 5\n",
        "learning_rate = 0.001\n",
        "# SET TO FALSE IF TRAINING FROM SCRATCH\n",
        "load_pretrained = False\n",
        "train_l_rnn, val_l_rnn, test_pred_rnn, train_l_lstm, val_l_lstm, test_pred_lstm, train_l_gru, val_l_gru, test_pred_gru = None, None, None, None, None, None, None, None, None\n",
        "\n",
        "if load_pretrained:\n",
        "  model = myRNN(len(vocab), 100, 128, 3)\n",
        "  optimizer = optim.AdamW(model.parameters(), lr = learning_rate)\n",
        "  checkpoint = torch.load(\"/content/drive/MyDrive/Colab Notebooks/Simple_RNN.pt\", weights_only = True)\n",
        "  model.load_state_dict(checkpoint['model_state_dict'])\n",
        "  optimizer.load_state_dict(checkpoint['optimizer_state_dict'])\n",
        "  train_l_rnn, val_l_rnn = checkpoint['train_losses'], checkpoint['valid_losses']\n",
        "  model.eval()\n",
        "  with torch.no_grad():\n",
        "    test_pred_rnn = model(X_test)\n",
        "\n",
        "  model = myLSTM(len(vocab), 100, 128, 3)\n",
        "  optimizer = optim.AdamW(model.parameters(), lr = learning_rate)\n",
        "  checkpoint = torch.load(\"/content/drive/MyDrive/Colab Notebooks/LSTM.pt\", weights_only = True)\n",
        "  model.load_state_dict(checkpoint['model_state_dict'])\n",
        "  optimizer.load_state_dict(checkpoint['optimizer_state_dict'])\n",
        "  train_l_lstm, val_l_lstm = checkpoint['train_losses'], checkpoint['valid_losses']\n",
        "  model.eval()\n",
        "  with torch.no_grad():\n",
        "    test_pred_lstm = model(X_test)\n",
        "\n",
        "  model = myGRU(len(vocab), 100, 128, 3)\n",
        "  optimizer = optim.AdamW(model.parameters(), lr = learning_rate)\n",
        "  checkpoint = torch.load(\"/content/drive/MyDrive/Colab Notebooks/GRU.pt\", weights_only = True)\n",
        "  model.load_state_dict(checkpoint['model_state_dict'])\n",
        "  optimizer.load_state_dict(checkpoint['optimizer_state_dict'])\n",
        "  train_l_gru, val_l_gru = checkpoint['train_losses'], checkpoint['valid_losses']\n",
        "  model.eval()\n",
        "  with torch.no_grad():\n",
        "    test_pred_gru = model(X_test)\n",
        "\n",
        "else:\n",
        "  # model = myRNN(len(vocab), 100, 128, 3)\n",
        "  # loss_fn = nn.CrossEntropyLoss()\n",
        "  # optimizer = optim.AdamW(model.parameters(), lr = learning_rate)\n",
        "  # train_l_rnn, val_l_rnn, test_pred_rnn = train(model, loss_fn, optimizer, X_train, y_train, X_val, y_val, X_test, epochs, val_epoch, 'Simple_RNN')\n",
        "  # print(\"-========= Done with simple RNN! ==========- \\n\")\n",
        "\n",
        "  # model = myLSTM(len(vocab), 100, 128, 3)\n",
        "  # loss_fn = nn.CrossEntropyLoss()\n",
        "  # optimizer = optim.AdamW(model.parameters(), lr = learning_rate)\n",
        "  # train_l_lstm, val_l_lstm, test_pred_lstm = train(model, loss_fn, optimizer, X_train, y_train, X_val, y_val, X_test, epochs, val_epoch, 'LSTM')\n",
        "  # print(\"-========= Done with LSTM! ==========- \\n\")\n",
        "\n",
        "  model = myGRU(len(vocab), 100, 128, 3)\n",
        "  loss_fn = nn.CrossEntropyLoss()\n",
        "  optimizer = optim.AdamW(model.parameters(), lr = learning_rate)\n",
        "  train_l_gru, val_l_gru, test_pred_gru = train(model, loss_fn, optimizer, X_train, y_train, X_val, y_val, X_test, epochs, val_epoch, 'GRU')\n",
        "  print(\"-========= Done with GRU! ==========- \\n\")\n",
        "\n",
        "\n",
        "\n",
        "\n",
        "\n",
        "pred = np.argmax(test_pred_rnn, axis=1)\n",
        "print(\"\\nSimple RNN Test metrics:\")\n",
        "print(\"f1 score: {:.5f}\".format(f1_score(y_test, pred, average='macro')))\n",
        "print(\"recall score: {:.5f}\".format(recall_score(y_test, pred, average='macro')))\n",
        "print(\"precision score: {:.5f}\".format(precision_score(y_test, pred, average='macro')))\n",
        "print(\"Overall accuracy: {:.2f}%\".format(accuracy_score(y_test, pred)*100))\n",
        "\n",
        "pred = np.argmax(test_pred_lstm, axis=1)\n",
        "print(\"\\nLSTM Test metrics:\")\n",
        "print(\"f1 score: {:.5f}\".format(f1_score(y_test, pred, average='macro')))\n",
        "print(\"recall score: {:.5f}\".format(recall_score(y_test, pred, average='macro')))\n",
        "print(\"precision score: {:.5f}\".format(precision_score(y_test, pred, average='macro')))\n",
        "print(\"Overall accuracy: {:.2f}%\".format(accuracy_score(y_test, pred)*100))\n",
        "\n",
        "pred = np.argmax(test_pred_gru, axis=1)\n",
        "print(\"\\nGRU Test metrics:\")\n",
        "print(\"f1 score: {:.5f}\".format(f1_score(y_test, pred, average='macro')))\n",
        "print(\"recall score: {:.5f}\".format(recall_score(y_test, pred, average='macro')))\n",
        "print(\"precision score: {:.5f}\".format(precision_score(y_test, pred, average='macro')))\n",
        "print(\"Overall accuracy: {:.2f}%\".format(accuracy_score(y_test, pred)*100))\n",
        "\n",
        "\n",
        "plt.plot(np.arange(len(train_l_rnn)), train_l_rnn, label=\"Training Loss\")\n",
        "plt.plot(np.arange(len(train_l_rnn), step=val_epoch), val_l_rnn, label=\"Validation Loss\")\n",
        "plt.legend()\n",
        "plt.xlabel(\"Epoch\")\n",
        "plt.ylabel(\"Loss\")\n",
        "plt.title(\"Loss vs. Epoch for Simple RNN\")\n",
        "plt.show()\n",
        "\n",
        "plt.plot(np.arange(len(train_l_lstm)), train_l_lstm, label=\"Training Loss\")\n",
        "plt.plot(np.arange(len(train_l_lstm), step=val_epoch), val_l_lstm, label=\"Validation Loss\")\n",
        "plt.legend()\n",
        "plt.xlabel(\"Epoch\")\n",
        "plt.ylabel(\"Loss\")\n",
        "plt.title(\"Loss vs. Epoch for LSTM\")\n",
        "plt.show()\n",
        "\n",
        "plt.plot(np.arange(len(train_l_gru)), train_l_gru, label=\"Training Loss\")\n",
        "plt.plot(np.arange(len(train_l_gru), step=val_epoch), val_l_gru, label=\"Validation Loss\")\n",
        "plt.legend()\n",
        "plt.xlabel(\"Epoch\")\n",
        "plt.ylabel(\"Loss\")\n",
        "plt.title(\"Loss vs. Epoch for GRU\")\n",
        "plt.show()"
      ],
      "metadata": {
        "colab": {
          "base_uri": "https://localhost:8080/"
        },
        "id": "l8ldG6P271e_",
        "outputId": "0431cc61-cfd8-4248-9cc0-0c8c9620c524"
      },
      "execution_count": null,
      "outputs": [
        {
          "output_type": "stream",
          "name": "stdout",
          "text": [
            "Epoch 0: 1.23969\n",
            "Validation loss: 1.21768\n",
            "Validation accuracy: 0.3333\n",
            "\n",
            "Epoch 1: 1.21456\n",
            "\n",
            "Epoch 2: 1.22223\n",
            "\n",
            "Epoch 3: 1.19462\n",
            "\n",
            "Epoch 4: 1.28857\n",
            "\n",
            "Epoch 5: 1.21721\n",
            "Validation loss: 1.21802\n",
            "Validation accuracy: 0.3333\n",
            "\n",
            "Epoch 6: 1.21718\n",
            "\n",
            "Epoch 7: 1.21710\n",
            "\n",
            "Epoch 8: 1.21711\n",
            "\n",
            "Epoch 9: 1.21384\n",
            "\n",
            "Epoch 10: 1.44093\n",
            "Validation loss: 1.21795\n",
            "Validation accuracy: 0.3333\n",
            "\n",
            "Epoch 11: 1.21709\n",
            "\n",
            "Epoch 12: 1.21705\n",
            "\n",
            "Epoch 13: 1.25445\n",
            "\n",
            "Epoch 14: 1.21700\n",
            "\n",
            "Epoch 15: 1.21699\n",
            "Validation loss: 1.21878\n",
            "Validation accuracy: 0.3326\n",
            "\n",
            "Epoch 16: 1.21699\n",
            "\n",
            "Epoch 17: 1.21650\n",
            "\n",
            "Epoch 18: 1.21432\n",
            "\n",
            "Epoch 19: 1.22295\n",
            "\n",
            "Epoch 20: 1.21909\n",
            "Validation loss: 1.23382\n",
            "Validation accuracy: 0.3175\n",
            "\n",
            "Epoch 21: 1.22098\n",
            "\n",
            "Epoch 22: 1.22136\n",
            "\n",
            "Epoch 23: 1.21949\n",
            "\n",
            "Epoch 24: 1.21572\n",
            "\n",
            "Epoch 25: 1.44454\n",
            "Validation loss: 1.21707\n",
            "Validation accuracy: 0.3341\n",
            "\n"
          ]
        }
      ]
    },
    {
      "cell_type": "markdown",
      "source": [
        "Below I have plotted these losses on the same axes for better comparison:"
      ],
      "metadata": {
        "id": "DLGr81EFoKd6"
      }
    },
    {
      "cell_type": "code",
      "source": [
        "plt.plot(np.arange(len(train_l_gru), step=val_epoch), val_l_gru, label=\"GRU\")\n",
        "plt.plot(np.arange(len(train_l_lstm), step=val_epoch), val_l_lstm, label=\"LSTM\")\n",
        "plt.plot(np.arange(len(train_l_rnn), step=val_epoch), val_l_rnn, label=\"Simple RNN\")\n",
        "plt.legend()\n",
        "plt.xlabel(\"Epoch\")\n",
        "plt.ylabel(\"Validation Loss\")\n",
        "plt.title(\"Validation losses for each model\")\n",
        "plt.show()\n",
        "\n",
        "\n",
        "plt.plot(np.arange(len(train_l_gru)), train_l_gru, label=\"GRU\")\n",
        "plt.plot(np.arange(len(train_l_lstm)), train_l_lstm, label=\"LSTM\")\n",
        "plt.plot(np.arange(len(train_l_rnn)), train_l_rnn, label=\"Simple RNN\")\n",
        "plt.legend()\n",
        "plt.xlabel(\"Epoch\")\n",
        "plt.ylabel(\"Training Loss\")\n",
        "plt.title(\"Training losses for each model\")\n",
        "plt.show()"
      ],
      "metadata": {
        "colab": {
          "base_uri": "https://localhost:8080/",
          "height": 927
        },
        "id": "VdXxu7gesnG2",
        "outputId": "7569d93e-8100-47bd-b3b7-4d83c2ed0fdc"
      },
      "execution_count": 146,
      "outputs": [
        {
          "output_type": "display_data",
          "data": {
            "text/plain": [
              "<Figure size 640x480 with 1 Axes>"
            ],
            "image/png": "[encoded data removed]"
          },
          "metadata": {}
        },
        {
          "output_type": "display_data",
          "data": {
            "text/plain": [
              "<Figure size 640x480 with 1 Axes>"
            ],
            "image/png": "[encoded data removed]"
          },
          "metadata": {}
        }
      ]
    },
    {
      "cell_type": "markdown",
      "source": [
        "Some things worth noticing: the simple RNN doesn't learn at all, and never gets past the \"guessing\" phase. It seems like the GRU losses are a lot more volatile than LSTM, which was apparent when training each model multiple times -- occasionally, GRU would never get past the guessing phase, similar to the simple RNN, and at other times, GRU would outperform LSTM. I think the disparity in performance from LSTM versus the basic RNN is mainly due to the forget gates implemented in the LSTM cell structure, as well as the issue with vanishing gradients. The ability for LSTMs to forget certain information means they get out of the \"rut\" of guessing very quickly, and the removal of vanishing gradients mean the weights get updated, while basic RNNs remain stagnant. I think the variability of GRUs compared to LSTMs is due to the removal of certain trainable parameters, which can make the loss more volatile. However, this also means that GRUs can converge more quickly than LSTMs in certain cases, which can be seen above.\n",
        "\n",
        "Although I guess time-series data could technically be converted to the usual features in a feed-forward network (such as simply adding a feature for position of the word in a sentence), I don't think this would capture semantic context as well as RNNs. For example, the word \"like\" generally has a positive connotation, but when preluded by a qualifier like \"not\" or \"didn't\" this now implies a strongly negative connotation. Simple feed-forward networks would not be able to pick up on this interaction between words, while RNNs are able to since each word impacts the next one."
      ],
      "metadata": {
        "id": "R_A6PtckkAxb"
      }
    },
    {
      "cell_type": "markdown",
      "source": [
        "### Task 3: Word Embeddings\n",
        "\n",
        "For word embeddings, I chose to use FastText. The reason for this is it allows for easy lookup of OOV word embeddings by using subword embeddings to approximate whole word embeddings. However, the natural trade-off is decreased semantic representation."
      ],
      "metadata": {
        "id": "TvcuG8n9_xAD"
      }
    },
    {
      "cell_type": "code",
      "source": [
        "!git clone https://github.com/facebookresearch/fastText.git\n",
        "!sudo pip install ./fastText"
      ],
      "metadata": {
        "colab": {
          "base_uri": "https://localhost:8080/"
        },
        "id": "cFBMrjsfyf5s",
        "outputId": "c842c98d-f6fc-46d1-d341-75bdc52751a2"
      },
      "execution_count": 147,
      "outputs": [
        {
          "output_type": "stream",
          "name": "stdout",
          "text": [
            "fatal: destination path 'fastText' already exists and is not an empty directory.\n",
            "Processing ./fastText\n",
            "  Installing build dependencies ... \u001b[?25l\u001b[?25hdone\n",
            "  Getting requirements to build wheel ... \u001b[?25l\u001b[?25hdone\n",
            "  Preparing metadata (pyproject.toml) ... \u001b[?25l\u001b[?25hdone\n",
            "Requirement already satisfied: pybind11>=2.2 in /usr/local/lib/python3.11/dist-packages (from fasttext==0.9.2) (2.13.6)\n",
            "Requirement already satisfied: setuptools>=0.7.0 in /usr/local/lib/python3.11/dist-packages (from fasttext==0.9.2) (75.1.0)\n",
            "Requirement already satisfied: numpy in /usr/local/lib/python3.11/dist-packages (from fasttext==0.9.2) (1.26.4)\n",
            "Building wheels for collected packages: fasttext\n",
            "  Building wheel for fasttext (pyproject.toml) ... \u001b[?25l\u001b[?25hdone\n",
            "  Created wheel for fasttext: filename=fasttext-0.9.2-cp311-cp311-linux_x86_64.whl size=4313386 sha256=af70ac3a9a736e79afac88ce540ccf884c85a0d14410964133c4bc525dceee05\n",
            "  Stored in directory: /tmp/pip-ephem-wheel-cache-9m4xexkj/wheels/1e/bc/93/e4d717605b2816cf84bf6796e766c05fcc2fd4feb3f170fdf3\n",
            "Successfully built fasttext\n",
            "Installing collected packages: fasttext\n",
            "  Attempting uninstall: fasttext\n",
            "    Found existing installation: fasttext 0.9.2\n",
            "    Uninstalling fasttext-0.9.2:\n",
            "      Successfully uninstalled fasttext-0.9.2\n",
            "Successfully installed fasttext-0.9.2\n"
          ]
        }
      ]
    },
    {
      "cell_type": "code",
      "source": [
        "import fasttext\n",
        "import fasttext.util\n",
        "import numpy as np\n",
        "\n",
        "ft = fasttext.load_model(\"/content/drive/MyDrive/Colab Notebooks/wiki.simple.bin\")\n",
        "fasttext.util.reduce_model(ft, 100) # Reduce model to 100 dimensions to reduce overhead -- my colab was occasionally running out of RAM without reducing dimensionality.\n"
      ],
      "metadata": {
        "colab": {
          "base_uri": "https://localhost:8080/",
          "height": 321
        },
        "id": "a-bFds8Ywt6O",
        "outputId": "b2b63c6d-6bbc-47a9-a42f-c46664e43c00"
      },
      "execution_count": 148,
      "outputs": [
        {
          "output_type": "error",
          "ename": "KeyboardInterrupt",
          "evalue": "",
          "traceback": [
            "\u001b[0;31m---------------------------------------------------------------------------\u001b[0m",
            "\u001b[0;31mKeyboardInterrupt\u001b[0m                         Traceback (most recent call last)",
            "\u001b[0;32m<ipython-input-148-715cf2dbbef6>\u001b[0m in \u001b[0;36m<cell line: 0>\u001b[0;34m()\u001b[0m\n\u001b[1;32m      4\u001b[0m \u001b[0;34m\u001b[0m\u001b[0m\n\u001b[1;32m      5\u001b[0m \u001b[0mft\u001b[0m \u001b[0;34m=\u001b[0m \u001b[0mfasttext\u001b[0m\u001b[0;34m.\u001b[0m\u001b[0mload_model\u001b[0m\u001b[0;34m(\u001b[0m\u001b[0;34m\"/content/drive/MyDrive/Colab Notebooks/wiki.simple.bin\"\u001b[0m\u001b[0;34m)\u001b[0m\u001b[0;34m\u001b[0m\u001b[0;34m\u001b[0m\u001b[0m\n\u001b[0;32m----> 6\u001b[0;31m \u001b[0mfasttext\u001b[0m\u001b[0;34m.\u001b[0m\u001b[0mutil\u001b[0m\u001b[0;34m.\u001b[0m\u001b[0mreduce_model\u001b[0m\u001b[0;34m(\u001b[0m\u001b[0mft\u001b[0m\u001b[0;34m,\u001b[0m \u001b[0;36m100\u001b[0m\u001b[0;34m)\u001b[0m \u001b[0;31m# Reduce model to 100 dimensions to reduce overhead -- my colab was occasionally running out of RAM without reducing dimensionality.\u001b[0m\u001b[0;34m\u001b[0m\u001b[0;34m\u001b[0m\u001b[0m\n\u001b[0m",
            "\u001b[0;32m/usr/local/lib/python3.11/dist-packages/fasttext/util/util.py\u001b[0m in \u001b[0;36mreduce_model\u001b[0;34m(ft_model, target_dim)\u001b[0m\n\u001b[1;32m    119\u001b[0m     \"\"\"\n\u001b[1;32m    120\u001b[0m     inp_reduced, proj = _reduce_matrix(\n\u001b[0;32m--> 121\u001b[0;31m         ft_model.get_input_matrix(), target_dim, None)\n\u001b[0m\u001b[1;32m    122\u001b[0m     out_reduced, _ = _reduce_matrix(\n\u001b[1;32m    123\u001b[0m         ft_model.get_output_matrix(), target_dim, proj)\n",
            "\u001b[0;32m/usr/local/lib/python3.11/dist-packages/fasttext/FastText.py\u001b[0m in \u001b[0;36mget_input_matrix\u001b[0;34m(self)\u001b[0m\n\u001b[1;32m    246\u001b[0m         \u001b[0;32mif\u001b[0m \u001b[0mself\u001b[0m\u001b[0;34m.\u001b[0m\u001b[0mf\u001b[0m\u001b[0;34m.\u001b[0m\u001b[0misQuant\u001b[0m\u001b[0;34m(\u001b[0m\u001b[0;34m)\u001b[0m\u001b[0;34m:\u001b[0m\u001b[0;34m\u001b[0m\u001b[0;34m\u001b[0m\u001b[0m\n\u001b[1;32m    247\u001b[0m             \u001b[0;32mraise\u001b[0m \u001b[0mValueError\u001b[0m\u001b[0;34m(\u001b[0m\u001b[0;34m\"Can't get quantized Matrix\"\u001b[0m\u001b[0;34m)\u001b[0m\u001b[0;34m\u001b[0m\u001b[0;34m\u001b[0m\u001b[0m\n\u001b[0;32m--> 248\u001b[0;31m         \u001b[0;32mreturn\u001b[0m \u001b[0mnp\u001b[0m\u001b[0;34m.\u001b[0m\u001b[0marray\u001b[0m\u001b[0;34m(\u001b[0m\u001b[0mself\u001b[0m\u001b[0;34m.\u001b[0m\u001b[0mf\u001b[0m\u001b[0;34m.\u001b[0m\u001b[0mgetInputMatrix\u001b[0m\u001b[0;34m(\u001b[0m\u001b[0;34m)\u001b[0m\u001b[0;34m)\u001b[0m\u001b[0;34m\u001b[0m\u001b[0;34m\u001b[0m\u001b[0m\n\u001b[0m\u001b[1;32m    249\u001b[0m \u001b[0;34m\u001b[0m\u001b[0m\n\u001b[1;32m    250\u001b[0m     \u001b[0;32mdef\u001b[0m \u001b[0mget_output_matrix\u001b[0m\u001b[0;34m(\u001b[0m\u001b[0mself\u001b[0m\u001b[0;34m)\u001b[0m\u001b[0;34m:\u001b[0m\u001b[0;34m\u001b[0m\u001b[0;34m\u001b[0m\u001b[0m\n",
            "\u001b[0;31mKeyboardInterrupt\u001b[0m: "
          ]
        }
      ]
    },
    {
      "cell_type": "code",
      "source": [
        "w1 = input(\"Input first word: \")\n",
        "w2 = input(\"Input second word: \")\n",
        "\n",
        "print(ft.get_word_vector(w1))\n",
        "print(ft.get_word_vector(w2))"
      ],
      "metadata": {
        "id": "oMHHLIzKPrdx"
      },
      "execution_count": null,
      "outputs": []
    },
    {
      "cell_type": "markdown",
      "source": [
        "Cosine similarity is useful because it's a simple and easy way to compare word embeddings, and naturally falls within the range $[-1,1]$, making it easy to quickly determine how similar words are within the embedding space."
      ],
      "metadata": {
        "id": "Ca-z8Djq759s"
      }
    },
    {
      "cell_type": "code",
      "source": [
        "from sklearn.manifold import TSNE\n",
        "from math import factorial\n",
        "\n",
        "# Compute cosine similarity\n",
        "def cosine_similarity(w1, w2):\n",
        "  return np.sum((np.matmul(w1, w2.T)/(np.linalg.norm(w1, axis=1)*np.linalg.norm(w2, axis=1))*np.eye(np.shape(w1)[0])), axis=1)\n",
        "\n",
        "i = input(\"Input all words to be compared to each other, separated by a space: \")\n",
        "words = i.split(\" \")\n",
        "embeddings = [ft.get_word_vector(w) for w in words]\n",
        "w1 = np.empty((sum(range(len(words)+1)),100))\n",
        "w2 = np.empty((sum(range(len(words)+1)),100))\n",
        "w3 = np.empty((sum(range(len(words)+1)),2), dtype = object)\n",
        "for i in range(len(words)):\n",
        "  for j in range(i+1):\n",
        "    w1[sum(range(i+1))+j] = ft.get_word_vector(words[i])\n",
        "    w2[sum(range(i+1))+j] = ft.get_word_vector(words[j])\n",
        "    w3[sum(range(i+1))+j,0] = words[i]\n",
        "    w3[sum(range(i+1))+j,1] = words[j]\n",
        "\n",
        "cs = cosine_similarity(w1, w2)\n",
        "\n",
        "for i in range(np.shape(w3)[0]):\n",
        "  print(\"Cosine similarity between\",w3[i,:],\": {:.4f}\".format(cs[i]))\n",
        "\n",
        "\n",
        "x_embedded = TSNE(perplexity = 5).fit_transform(np.array(embeddings))\n",
        "\n",
        "plt.scatter(x_embedded[:,0], x_embedded[:,1])\n",
        "for i, txt in enumerate(words):\n",
        "  plt.annotate(txt, (x_embedded[i,0],x_embedded[i,1]))\n",
        "plt.title(\"Comparison of word embeddings\")\n",
        "# plt.ylim(0,100)\n",
        "# plt.xlim(-100,100)\n",
        "plt.show()"
      ],
      "metadata": {
        "id": "RaI_zoJmRaaH"
      },
      "execution_count": null,
      "outputs": []
    },
    {
      "cell_type": "markdown",
      "source": [
        "From the above scatter plot, we can see how similar words like [\"dog\",\"cat\"], [\"lion\",\"tiger\",\"jaguar\"] and [\"mother\",\"husband\",\"wife\"] cluster very close together, while words that don't have a correlation with each other, like [\"time\",\"truck\"] and [\"wolf\",\"table\"] are relatively far apart. We can also see how these clusters all contain points with similar angles w.r.t. zero, indicating a high cosine similarity."
      ],
      "metadata": {
        "id": "WevEv4-xucXa"
      }
    },
    {
      "cell_type": "markdown",
      "source": [
        "One possible option for dissimilarity is normalized euclidean distance, which would be implemented as: $$\\frac{\\|w_1-w_2\\|}{\\|w_1\\|+\\|w_2\\|}$$ This captures slightly more than just cosine similarity, since it also factors in the magnitudes of each embedding, while cosine similarity only factors in the angle. IF two embeddings with similar angles have very large differences in magnitude, cosine embedding will be inaccurate when computing dissimilarity, while Euclidean distance captures the accurate difference. The normalization of Euclidean distance restricts the range to [0,1] so that the scale between vectors is the same for better comparison."
      ],
      "metadata": {
        "id": "ghmtx11nFqV1"
      }
    },
    {
      "cell_type": "code",
      "source": [
        "import seaborn as sns\n",
        "\n",
        "def euclidean_dissimilarity(w1, w2):\n",
        "  return (np.linalg.norm(w1-w2, axis=1))/(np.linalg.norm(w1, axis=1)+np.linalg.norm(w2, axis=1))\n",
        "  # res = np.array(np.shape(w1)[0])\n",
        "  # for i in range(np.shape(w1)[0])\n",
        "  #   v1 = ft.get_word_vector(w1[i])\n",
        "  #   v2 = ft.get_word_vector(w2[i])\n",
        "  #   res[i] = np.linalg.norm(v1-v2)/(np.linalg.norm(v1)+np.linalg.norm(v2))\n",
        "  # return res\n",
        "\n",
        "def cosine_dissimilarity(w1, w2):\n",
        "  return -1*cosine_similarity(w1, w2)\n",
        "\n",
        "\n",
        "def word_compare(w1, w2, comparison):\n",
        "  if comparison == \"euc\":\n",
        "    return euclidean_dissimilarity(w1, w2)\n",
        "  elif comparison == \"cos\":\n",
        "    return cosine_similarity(w1, w2)\n",
        "  elif comparison == \"cos dis\":\n",
        "    return cosine_dissimilarity(w1, w2)\n",
        "  else:\n",
        "    print(\"Could not parse comparison method\")\n",
        "\n",
        "cs = word_compare(w1, w2, \"cos\")\n",
        "ed = word_compare(w1, w2, \"euc\")\n",
        "cd = word_compare(w1, w2, \"cos dis\")\n",
        "\n",
        "\n",
        "df = pd.DataFrame(columns = words, index = words, dtype=float)\n",
        "\n",
        "for i in range(np.shape(w3)[0]):\n",
        "  df.loc[w3[i,0],w3[i,1]] = cs[i]\n",
        "  df.loc[w3[i,1],w3[i,0]] = cs[i]\n",
        "sns.heatmap(df)\n",
        "plt.title(\"Heatmap of cosine similarity\")\n",
        "plt.show()\n",
        "print(\"Highest cosine similarities between selected words:\")\n",
        "for i in range(len(words)):\n",
        "  s = df.sort_values(by=words[i], ascending=False)\n",
        "  print(\"{}:\".format(words[i]),list(s[words[i]].index[1:5]))\n",
        "print('\\n')\n",
        "\n",
        "\n",
        "for i in range(np.shape(w3)[0]):\n",
        "  df.loc[w3[i,0],w3[i,1]] = ed[i]\n",
        "  df.loc[w3[i,1],w3[i,0]] = ed[i]\n",
        "sns.heatmap(df)\n",
        "plt.title(\"Heatmap of normalized euclidean distance\")\n",
        "plt.show()\n",
        "print(\"Highest euclidean distances between selected words:\")\n",
        "for i in range(len(words)):\n",
        "  s = df.sort_values(by=words[i], ascending=False)\n",
        "  print(\"{}:\".format(words[i]),list(s[words[i]].index[1:5]))\n",
        "print('\\n')\n",
        "\n",
        "\n",
        "for i in range(np.shape(w3)[0]):\n",
        "  df.loc[w3[i,0],w3[i,1]] = cd[i]\n",
        "  df.loc[w3[i,1],w3[i,0]] = cd[i]\n",
        "sns.heatmap(df)\n",
        "plt.title(\"Heatmap of cosine dissimilarity\")\n",
        "plt.show()\n",
        "print(\"Highest cosine dissimilarities between selected words:\")\n",
        "for i in range(len(words)):\n",
        "  s = df.sort_values(by=words[i], ascending=False)\n",
        "  print(\"{}:\".format(words[i]),list(s[words[i]].index[1:5]))\n",
        "\n"
      ],
      "metadata": {
        "id": "TNEHtvs0IV1R"
      },
      "execution_count": null,
      "outputs": []
    }
  ]
}