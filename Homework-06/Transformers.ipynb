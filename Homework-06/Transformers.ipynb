{
  "nbformat": 4,
  "nbformat_minor": 0,
  "metadata": {
    "colab": {
      "provenance": [],
      "authorship_tag": "ABX9TyMYxHOixGrtpHj3w/l9//iU",
      "include_colab_link": true
    },
    "kernelspec": {
      "name": "python3",
      "display_name": "Python 3"
    },
    "language_info": {
      "name": "python"
    }
  },
  "cells": [
    {
      "cell_type": "markdown",
      "metadata": {
        "id": "view-in-github",
        "colab_type": "text"
      },
      "source": [
        "<a href=\"https://colab.research.google.com/github/csch7/CSCI-4170/blob/main/Homework-06/Transformers.ipynb\" target=\"_parent\"><img src=\"https://colab.research.google.com/assets/colab-badge.svg\" alt=\"Open In Colab\"/></a>"
      ]
    },
    {
      "cell_type": "markdown",
      "source": [
        "## Dataset Selection and Preprocessing:\n",
        "\n",
        "For this task, I have selected the xl-sum dataset, which consists of BBC articles and summaries.\n",
        "\n",
        "Source: https://paperswithcode.com/dataset/xl-sum"
      ],
      "metadata": {
        "id": "TiQ62q_91tjQ"
      }
    },
    {
      "cell_type": "code",
      "source": [
        "!pip install datasets"
      ],
      "metadata": {
        "colab": {
          "base_uri": "https://localhost:8080/"
        },
        "id": "MTSngS1HutdR",
        "outputId": "0590f971-74bc-4384-e173-491ae49b9d8a"
      },
      "execution_count": 1,
      "outputs": [
        {
          "output_type": "stream",
          "name": "stdout",
          "text": [
            "Requirement already satisfied: datasets in /usr/local/lib/python3.11/dist-packages (3.5.0)\n",
            "Requirement already satisfied: filelock in /usr/local/lib/python3.11/dist-packages (from datasets) (3.18.0)\n",
            "Requirement already satisfied: numpy>=1.17 in /usr/local/lib/python3.11/dist-packages (from datasets) (2.0.2)\n",
            "Requirement already satisfied: pyarrow>=15.0.0 in /usr/local/lib/python3.11/dist-packages (from datasets) (18.1.0)\n",
            "Requirement already satisfied: dill<0.3.9,>=0.3.0 in /usr/local/lib/python3.11/dist-packages (from datasets) (0.3.8)\n",
            "Requirement already satisfied: pandas in /usr/local/lib/python3.11/dist-packages (from datasets) (2.2.2)\n",
            "Requirement already satisfied: requests>=2.32.2 in /usr/local/lib/python3.11/dist-packages (from datasets) (2.32.3)\n",
            "Requirement already satisfied: tqdm>=4.66.3 in /usr/local/lib/python3.11/dist-packages (from datasets) (4.67.1)\n",
            "Requirement already satisfied: xxhash in /usr/local/lib/python3.11/dist-packages (from datasets) (3.5.0)\n",
            "Requirement already satisfied: multiprocess<0.70.17 in /usr/local/lib/python3.11/dist-packages (from datasets) (0.70.16)\n",
            "Requirement already satisfied: fsspec<=2024.12.0,>=2023.1.0 in /usr/local/lib/python3.11/dist-packages (from fsspec[http]<=2024.12.0,>=2023.1.0->datasets) (2024.12.0)\n",
            "Requirement already satisfied: aiohttp in /usr/local/lib/python3.11/dist-packages (from datasets) (3.11.14)\n",
            "Requirement already satisfied: huggingface-hub>=0.24.0 in /usr/local/lib/python3.11/dist-packages (from datasets) (0.29.3)\n",
            "Requirement already satisfied: packaging in /usr/local/lib/python3.11/dist-packages (from datasets) (24.2)\n",
            "Requirement already satisfied: pyyaml>=5.1 in /usr/local/lib/python3.11/dist-packages (from datasets) (6.0.2)\n",
            "Requirement already satisfied: aiohappyeyeballs>=2.3.0 in /usr/local/lib/python3.11/dist-packages (from aiohttp->datasets) (2.6.1)\n",
            "Requirement already satisfied: aiosignal>=1.1.2 in /usr/local/lib/python3.11/dist-packages (from aiohttp->datasets) (1.3.2)\n",
            "Requirement already satisfied: attrs>=17.3.0 in /usr/local/lib/python3.11/dist-packages (from aiohttp->datasets) (25.3.0)\n",
            "Requirement already satisfied: frozenlist>=1.1.1 in /usr/local/lib/python3.11/dist-packages (from aiohttp->datasets) (1.5.0)\n",
            "Requirement already satisfied: multidict<7.0,>=4.5 in /usr/local/lib/python3.11/dist-packages (from aiohttp->datasets) (6.2.0)\n",
            "Requirement already satisfied: propcache>=0.2.0 in /usr/local/lib/python3.11/dist-packages (from aiohttp->datasets) (0.3.1)\n",
            "Requirement already satisfied: yarl<2.0,>=1.17.0 in /usr/local/lib/python3.11/dist-packages (from aiohttp->datasets) (1.18.3)\n",
            "Requirement already satisfied: typing-extensions>=3.7.4.3 in /usr/local/lib/python3.11/dist-packages (from huggingface-hub>=0.24.0->datasets) (4.13.0)\n",
            "Requirement already satisfied: charset-normalizer<4,>=2 in /usr/local/lib/python3.11/dist-packages (from requests>=2.32.2->datasets) (3.4.1)\n",
            "Requirement already satisfied: idna<4,>=2.5 in /usr/local/lib/python3.11/dist-packages (from requests>=2.32.2->datasets) (3.10)\n",
            "Requirement already satisfied: urllib3<3,>=1.21.1 in /usr/local/lib/python3.11/dist-packages (from requests>=2.32.2->datasets) (2.3.0)\n",
            "Requirement already satisfied: certifi>=2017.4.17 in /usr/local/lib/python3.11/dist-packages (from requests>=2.32.2->datasets) (2025.1.31)\n",
            "Requirement already satisfied: python-dateutil>=2.8.2 in /usr/local/lib/python3.11/dist-packages (from pandas->datasets) (2.8.2)\n",
            "Requirement already satisfied: pytz>=2020.1 in /usr/local/lib/python3.11/dist-packages (from pandas->datasets) (2025.2)\n",
            "Requirement already satisfied: tzdata>=2022.7 in /usr/local/lib/python3.11/dist-packages (from pandas->datasets) (2025.2)\n",
            "Requirement already satisfied: six>=1.5 in /usr/local/lib/python3.11/dist-packages (from python-dateutil>=2.8.2->pandas->datasets) (1.17.0)\n"
          ]
        }
      ]
    },
    {
      "cell_type": "code",
      "execution_count": 2,
      "metadata": {
        "colab": {
          "base_uri": "https://localhost:8080/"
        },
        "id": "uZcmAH9WdoY2",
        "outputId": "5fc5e170-8c43-49b3-d8ee-f157fa8dc6c1"
      },
      "outputs": [
        {
          "output_type": "stream",
          "name": "stderr",
          "text": [
            "/usr/local/lib/python3.11/dist-packages/huggingface_hub/utils/_auth.py:94: UserWarning: \n",
            "The secret `HF_TOKEN` does not exist in your Colab secrets.\n",
            "To authenticate with the Hugging Face Hub, create a token in your settings tab (https://huggingface.co/settings/tokens), set it as secret in your Google Colab and restart your session.\n",
            "You will be able to reuse this secret in all of your notebooks.\n",
            "Please note that authentication is recommended but still optional to access public models or datasets.\n",
            "  warnings.warn(\n"
          ]
        }
      ],
      "source": [
        "import numpy as np\n",
        "import matplotlib.pyplot as plt\n",
        "import pandas as pd\n",
        "from transformers import BartTokenizer, BartForConditionalGeneration\n",
        "from datasets import load_dataset\n",
        "\n",
        "from google.colab import drive\n",
        "\n",
        "dat = load_dataset('csebuetnlp/xlsum', 'english')\n"
      ]
    },
    {
      "cell_type": "code",
      "source": [
        "train = dat['train'].to_pandas()\n",
        "test = dat['test'].to_pandas()\n",
        "\n",
        "print(train.shape, test.shape)"
      ],
      "metadata": {
        "colab": {
          "base_uri": "https://localhost:8080/"
        },
        "id": "27KErqKtwZLS",
        "outputId": "143ed1b0-620c-48ae-f6b3-09d07d1e58b9"
      },
      "execution_count": 3,
      "outputs": [
        {
          "output_type": "stream",
          "name": "stdout",
          "text": [
            "(306522, 5) (11535, 5)\n"
          ]
        }
      ]
    },
    {
      "cell_type": "code",
      "source": [
        "print(train.head())"
      ],
      "metadata": {
        "colab": {
          "base_uri": "https://localhost:8080/"
        },
        "id": "KpQ4XuSm3Moi",
        "outputId": "7a6ece13-67d3-4830-958a-ccb86c2621f0"
      },
      "execution_count": 4,
      "outputs": [
        {
          "output_type": "stream",
          "name": "stdout",
          "text": [
            "                                       id  \\\n",
            "0                       uk-wales-56321577   \n",
            "1  uk-scotland-highlands-islands-11069985   \n",
            "2               uk-england-leeds-45776523   \n",
            "3                world-us-canada-51010441   \n",
            "4       uk-scotland-glasgow-west-52274685   \n",
            "\n",
            "                                                 url  \\\n",
            "0         https://www.bbc.com/news/uk-wales-56321577   \n",
            "1  https://www.bbc.com/news/uk-scotland-highlands...   \n",
            "2  https://www.bbc.com/news/uk-england-leeds-4577...   \n",
            "3  https://www.bbc.com/news/world-us-canada-51010441   \n",
            "4  https://www.bbc.com/news/uk-scotland-glasgow-w...   \n",
            "\n",
            "                                               title  \\\n",
            "0  Weather alert issued for gale force winds in W...   \n",
            "1   Huge tidal turbine installed at Orkney test site   \n",
            "2  Leeds stabbing: Man attacked outside betting shop   \n",
            "3  Could killing of Iranian general help Trump ge...   \n",
            "4  Coronavirus: 'I've moved out to protect my fam...   \n",
            "\n",
            "                                             summary  \\\n",
            "0  Winds could reach gale force in Wales with sto...   \n",
            "1  The massive tidal turbine AK1000 has been inst...   \n",
            "2  A man has been stabbed in broad daylight outsi...   \n",
            "3  It was inevitable that the fallout from the US...   \n",
            "4  Week four of social distancing is starting to ...   \n",
            "\n",
            "                                                text  \n",
            "0  The Met Office has issued a yellow weather war...  \n",
            "1  Atlantis Resources unveiled the marine energy ...  \n",
            "2  Police were called to the scene outside the Co...  \n",
            "3  Anthony ZurcherNorth America reporter@awzurche...  \n",
            "4  By Debbie JacksonBBC Scotland But while most o...  \n"
          ]
        }
      ]
    },
    {
      "cell_type": "code",
      "source": [
        "train = train.drop(columns=['id', 'url', 'title'])\n",
        "test = test.drop(columns=['id', 'url', 'title'])\n"
      ],
      "metadata": {
        "id": "vqBrlWLp3V_w"
      },
      "execution_count": 5,
      "outputs": []
    },
    {
      "cell_type": "code",
      "source": [
        "print(train.head(), test.head())"
      ],
      "metadata": {
        "colab": {
          "base_uri": "https://localhost:8080/"
        },
        "id": "XcQXkLgL30mo",
        "outputId": "e5887731-fe09-41c7-9db0-b3b1df65615e"
      },
      "execution_count": 6,
      "outputs": [
        {
          "output_type": "stream",
          "name": "stdout",
          "text": [
            "                                             summary  \\\n",
            "0  Winds could reach gale force in Wales with sto...   \n",
            "1  The massive tidal turbine AK1000 has been inst...   \n",
            "2  A man has been stabbed in broad daylight outsi...   \n",
            "3  It was inevitable that the fallout from the US...   \n",
            "4  Week four of social distancing is starting to ...   \n",
            "\n",
            "                                                text  \n",
            "0  The Met Office has issued a yellow weather war...  \n",
            "1  Atlantis Resources unveiled the marine energy ...  \n",
            "2  Police were called to the scene outside the Co...  \n",
            "3  Anthony ZurcherNorth America reporter@awzurche...  \n",
            "4  By Debbie JacksonBBC Scotland But while most o...                                                summary  \\\n",
            "0  Donald Trump campaigned on becoming a presiden...   \n",
            "1  The Welsh Government \"would probably\" take the...   \n",
            "2  A university has mistakenly emailed hundreds o...   \n",
            "3  Some progress has been made in encouraging gir...   \n",
            "4  The president of business organisation, the CB...   \n",
            "\n",
            "                                                text  \n",
            "0  By Kate DaileyBBC News Earlier this week, Trum...  \n",
            "1  But Eluned Morgan conceded that it would be \"d...  \n",
            "2  By Jon Welch and Paul MoseleyBBC News Details ...  \n",
            "3  By Helen BriggsBBC News In 2016, 1.9% of girls...  \n",
            "4  John Allan stressed this was his personal view...  \n"
          ]
        }
      ]
    },
    {
      "cell_type": "code",
      "source": [
        "plt.hist([len(t.split(' ')) for t in train.text], bins=100)\n",
        "plt.title(\"Article Lengths\")\n",
        "plt.ylabel(\"Counts\")\n",
        "plt.xlabel(\"Article length (words)\")\n",
        "plt.show()"
      ],
      "metadata": {
        "id": "bTPpkorTJY6L",
        "outputId": "4ac3eeeb-21bf-4540-f6ba-ecded31a71bb",
        "colab": {
          "base_uri": "https://localhost:8080/",
          "height": 472
        }
      },
      "execution_count": 7,
      "outputs": [
        {
          "output_type": "display_data",
          "data": {
            "text/plain": [
              "<Figure size 640x480 with 1 Axes>"
            ],
            "image/png": "[encoded data removed]"
          },
          "metadata": {}
        }
      ]
    },
    {
      "cell_type": "markdown",
      "source": [
        "## Dataset Splitting\n",
        "\n",
        "Here, I filter any articles that are more than 2000 words out, and randomly sample 90 samples from training set and 10 samples from the test set."
      ],
      "metadata": {
        "id": "Lw5Wh7eBfLDM"
      }
    },
    {
      "cell_type": "code",
      "source": [
        "train = train.sample(frac=1).reset_index(drop=True)\n",
        "train = train[:30000]\n",
        "\n",
        "train = train[train['text'].apply(lambda x: len(x.split(\" \")) <= 2000)]\n",
        "test = test[test['text'].apply(lambda x: len(x.split(\" \")) <= 2000)]\n",
        "\n",
        "train = train.sample(90).reset_index(drop=True)\n",
        "test = test.sample(10).reset_index(drop=True)"
      ],
      "metadata": {
        "id": "2WAPCAQ4KHiw"
      },
      "execution_count": 21,
      "outputs": []
    },
    {
      "cell_type": "code",
      "source": [
        "tokenizer = BartTokenizer.from_pretrained('facebook/bart-base')\n",
        "\n",
        "model = BartForConditionalGeneration.from_pretrained('facebook/bart-base')"
      ],
      "metadata": {
        "id": "Xx4X-Ov-wZc-"
      },
      "execution_count": 22,
      "outputs": []
    },
    {
      "cell_type": "markdown",
      "source": [
        "## Fine-tuning model:\n",
        "\n",
        "Here, I still update every batch, but use a very small learning rate. Since the model is already pre-trained, only very small tweaks are needed to fine-tune to my specific task and dataset."
      ],
      "metadata": {
        "id": "bKfWlbkhgaXe"
      }
    },
    {
      "cell_type": "code",
      "source": [
        "from torch import optim\n",
        "import torch\n",
        "from torch.utils.data import Dataset, DataLoader\n",
        "from tqdm import tqdm\n",
        "\n",
        "drive.mount('/content/drive')\n",
        "\n",
        "def train_Bart(data, labels, model, tokenizer, epochs = 20, lr = 0.00001):\n",
        "  model.train()\n",
        "  optimizer = optim.AdamW(model.parameters(), lr)\n",
        "\n",
        "  for e in range(epochs):\n",
        "    losses = []\n",
        "    i = 0\n",
        "    for b in range(np.shape(data)[0]):\n",
        "      d = [data[b]]\n",
        "      t = [labels[b]]\n",
        "      batch = tokenizer(d, padding = 'longest', max_length = 1024, truncation = True)\n",
        "      attn = torch.LongTensor(batch['attention_mask'])\n",
        "      batch = torch.LongTensor(batch['input_ids'])\n",
        "      tar = torch.LongTensor(tokenizer(text_target = t, max_length = 1024, padding = 'longest', truncation = True)['input_ids'])\n",
        "      model_output = model(batch, attn, labels = tar)\n",
        "      loss = model_output.loss\n",
        "      losses.append(loss.item())\n",
        "      loss.backward()\n",
        "      optimizer.step()\n",
        "      optimizer.zero_grad()\n",
        "    print(\"Epoch {} | Loss {:.5f}\".format(e, np.mean(losses)))\n",
        "\n",
        "  torch.save(model.state_dict(), '/content/drive/MyDrive/Colab Notebooks/fine-tuned-BART.pt')\n",
        "\n",
        "train_Bart(list(train.text), list(train.summary), model, tokenizer)"
      ],
      "metadata": {
        "colab": {
          "base_uri": "https://localhost:8080/"
        },
        "id": "6oPdmCskS0CY",
        "outputId": "1f4889db-954d-45d5-8cfa-454a7a73a6b4"
      },
      "execution_count": 23,
      "outputs": [
        {
          "output_type": "stream",
          "name": "stdout",
          "text": [
            "Drive already mounted at /content/drive; to attempt to forcibly remount, call drive.mount(\"/content/drive\", force_remount=True).\n",
            "Epoch 0 | Loss 2.92649\n",
            "Epoch 1 | Loss 2.27942\n",
            "Epoch 2 | Loss 1.96290\n",
            "Epoch 3 | Loss 1.62935\n",
            "Epoch 4 | Loss 1.36014\n",
            "Epoch 5 | Loss 1.15798\n",
            "Epoch 6 | Loss 0.95532\n",
            "Epoch 7 | Loss 0.81989\n",
            "Epoch 8 | Loss 0.68593\n",
            "Epoch 9 | Loss 0.67416\n",
            "Epoch 10 | Loss 0.51413\n",
            "Epoch 11 | Loss 0.41764\n",
            "Epoch 12 | Loss 0.37091\n",
            "Epoch 13 | Loss 0.30395\n",
            "Epoch 14 | Loss 0.26159\n",
            "Epoch 15 | Loss 0.23527\n",
            "Epoch 16 | Loss 0.19676\n",
            "Epoch 17 | Loss 0.18259\n",
            "Epoch 18 | Loss 0.18661\n",
            "Epoch 19 | Loss 0.15670\n"
          ]
        }
      ]
    },
    {
      "cell_type": "code",
      "source": [
        "from transformers import BartTokenizer, BartForConditionalGeneration\n",
        "import torch\n",
        "\n",
        "# Load fine-tuned model\n",
        "drive.mount('/content/drive')\n",
        "model = BartForConditionalGeneration.from_pretrained('facebook/bart-base')\n",
        "model.load_state_dict(torch.load('/content/drive/MyDrive/Colab Notebooks/fine-tuned-BART.pt'))\n",
        "\n",
        "generated_summaries = []\n",
        "\n",
        "model.eval()\n",
        "with torch.no_grad():\n",
        "  for b in range(10):\n",
        "    d = list(test.text)[b:(b+1)]\n",
        "    t = list(test.summary)[b:(b+1)]\n",
        "    batch = tokenizer(d, padding = 'longest', max_length = 1024, truncation = True)\n",
        "    tar = torch.LongTensor(tokenizer(text_target = t, max_length = 1024, padding = 'longest', truncation = True)['input_ids'])\n",
        "    batch = torch.LongTensor(batch['input_ids'])\n",
        "    model_output = model(batch, labels=tar)\n",
        "    print(\"Loss: {}\".format(model_output.loss.item()))\n",
        "    print(\"Predicted summary: {}\".format([tokenizer.decode(t[1:]) for t in torch.argmax(model_output.logits, dim=-1)]))\n",
        "    print(\"Actual summary: {}\".format(t))\n",
        "    generated_summaries.append([tokenizer.decode(t[1:]) for t in torch.argmax(model_output.logits, dim=-1)][0].replace('</s>', '\\n'))\n",
        "\n"
      ],
      "metadata": {
        "id": "uJbZACuYzTP3",
        "outputId": "2b2a3100-186b-464f-e401-4e45029b2326",
        "colab": {
          "base_uri": "https://localhost:8080/"
        }
      },
      "execution_count": 24,
      "outputs": [
        {
          "output_type": "stream",
          "name": "stdout",
          "text": [
            "Drive already mounted at /content/drive; to attempt to forcibly remount, call drive.mount(\"/content/drive\", force_remount=True).\n",
            "Loss: 4.090744972229004\n",
            "Predicted summary: ['A has detained into of people plot to a military police to a S of a trial. Ankara.</s>']\n",
            "Actual summary: ['Turkey has marched dozens of coup suspects past a hostile crowd at the start of their trial near Ankara.']\n",
            "Loss: 2.9525771141052246\n",
            "Predicted summary: ['A cat named been after being shot by a laser gunguided rifle rifle by the homeshickal\"\", terror\", a RoyalSPCA has said.</s>']\n",
            "Actual summary: ['A cat has died after being shot with a laser-sighted air rifle in a \"brutal act of cruelty\", the RSPCA has said.']\n",
            "Loss: 3.2154860496520996\n",
            "Predicted summary: ['Tric on a Swansea for Swansea Swansea800bn Swansea Bay lagoon project is beingcatperateately important\", a Welsh government Secretary has said.</s>']\n",
            "Actual summary: ['Agreement on the subsidy for the £1bn Swansea tidal lagoon project is \"desperately needed\", the Welsh Economy Minister has said.']\n",
            "Loss: 3.3371453285217285\n",
            "Predicted summary: ['An Financial of has to have made a \"extraord mistakeunder\" when releasing the of its investigation inquiry investigation into be published public on on the spokesman industry has said.</s>']\n",
            "Actual summary: ['The City regulator appears to have made an \"extraordinary blunder\" by allowing details of an insurance industry investigation to be made public early, a senior MP has said.']\n",
            "Loss: 3.4798922538757324\n",
            "Predicted summary: ['Moreotional pictures pictures are picturesions are two have their families forces families have shared on charity series calendar by raise charity families.</s>']\n",
            "Actual summary: ['Emotional farewells and reunions between children and their armed forces parents are captured in a fundraising calendar to support military families.']\n",
            "Loss: 4.593977928161621\n",
            "Predicted summary: ['The Queen has Queen Sovere Queen are been criticised to in the Queen\\'s and a Sovere cuts reformsupup in British\\'s Wales.since the times\".</s>']\n",
            "Actual summary: ['The government\\'s planned new laws have been set out by the Queen - including the biggest prison shake-up in England and Wales \"since Victorian times\".']\n",
            "Loss: 2.246537208557129\n",
            "Predicted summary: ['The Cameron has said it many people are outside backgrounds are not able to learn English when they come school school.</s>']\n",
            "Actual summary: ['David Cameron has said too many children from immigrant families are not able to speak English when they start at school.']\n",
            "Loss: 1.9215962886810303\n",
            "Predicted summary: ['Kim Kardashian West has been criticised a \"teroxic influence\" on her an advert on appetite diet product productollipop.</s>']\n",
            "Actual summary: ['Kim Kardashian West has been called a \"toxic influence\" for posting an advert promoting a dieting lollipop.']\n",
            "Loss: 1.0324068069458008\n",
            "Predicted summary: ['G Scottish economy grew by a faster pace than the UK, a whole, the final quarter months of 2013, the to figures figures.</s>']\n",
            "Actual summary: ['The Scottish economy grew at a slower pace than the UK as a whole in the final three months of 2013, according to official figures.']\n",
            "Loss: 1.6799620389938354\n",
            "Predicted summary: [\"L cosmetics company L'Oreal said its sales decline slow the third quarter hurt by a lowest level in the.</s>\"]\n",
            "Actual summary: [\"French cosmetics giant L'Oreal saw its sales growth in the third quarter fall to the lowest level since 2009.\"]\n"
          ]
        }
      ]
    },
    {
      "cell_type": "code",
      "source": [
        "!pip install rouge-score"
      ],
      "metadata": {
        "id": "muXrOPWRDIUU",
        "outputId": "cfcbba39-7754-44ad-ff19-ef6dd55c8ffc",
        "colab": {
          "base_uri": "https://localhost:8080/"
        }
      },
      "execution_count": 12,
      "outputs": [
        {
          "output_type": "stream",
          "name": "stdout",
          "text": [
            "Requirement already satisfied: rouge-score in /usr/local/lib/python3.11/dist-packages (0.1.2)\n",
            "Requirement already satisfied: absl-py in /usr/local/lib/python3.11/dist-packages (from rouge-score) (1.4.0)\n",
            "Requirement already satisfied: nltk in /usr/local/lib/python3.11/dist-packages (from rouge-score) (3.9.1)\n",
            "Requirement already satisfied: numpy in /usr/local/lib/python3.11/dist-packages (from rouge-score) (2.0.2)\n",
            "Requirement already satisfied: six>=1.14.0 in /usr/local/lib/python3.11/dist-packages (from rouge-score) (1.17.0)\n",
            "Requirement already satisfied: click in /usr/local/lib/python3.11/dist-packages (from nltk->rouge-score) (8.1.8)\n",
            "Requirement already satisfied: joblib in /usr/local/lib/python3.11/dist-packages (from nltk->rouge-score) (1.4.2)\n",
            "Requirement already satisfied: regex>=2021.8.3 in /usr/local/lib/python3.11/dist-packages (from nltk->rouge-score) (2024.11.6)\n",
            "Requirement already satisfied: tqdm in /usr/local/lib/python3.11/dist-packages (from nltk->rouge-score) (4.67.1)\n"
          ]
        }
      ]
    },
    {
      "cell_type": "code",
      "source": [
        "from rouge_score import rouge_scorer\n",
        "from nltk.translate.bleu_score import sentence_bleu\n",
        "\n",
        "rouge_scorer = rouge_scorer.RougeScorer(['rouge1', 'rouge2', 'rougeL'])\n",
        "\n",
        "for i in range(10):\n",
        "  print(sentence_bleu([list(test.text)[i]], generated_summaries[i]))\n",
        "  scores = rouge_scorer.score(list(test.text)[i], generated_summaries[i])\n",
        "\n",
        "  for key in scores:\n",
        "      print(f'{key}: {scores[key]}')\n",
        "  print()"
      ],
      "metadata": {
        "id": "KZ-nPFHpG-5S",
        "outputId": "3fca10c7-e442-4366-a747-664b2d863cb6",
        "colab": {
          "base_uri": "https://localhost:8080/"
        }
      },
      "execution_count": 25,
      "outputs": [
        {
          "output_type": "stream",
          "name": "stdout",
          "text": [
            "1.0608439349561503e-18\n",
            "rouge1: Score(precision=0.8888888888888888, recall=0.02680067001675042, fmeasure=0.05203252032520325)\n",
            "rouge2: Score(precision=0.11764705882352941, recall=0.003355704697986577, fmeasure=0.0065252854812398045)\n",
            "rougeL: Score(precision=0.6666666666666666, recall=0.020100502512562814, fmeasure=0.039024390243902446)\n",
            "\n",
            "0.0014304547408874855\n",
            "rouge1: Score(precision=0.42857142857142855, recall=0.0625, fmeasure=0.10909090909090909)\n",
            "rouge2: Score(precision=0.0, recall=0.0, fmeasure=0.0)\n",
            "rougeL: Score(precision=0.2857142857142857, recall=0.041666666666666664, fmeasure=0.07272727272727272)\n",
            "\n",
            "9.408616188408798e-10\n",
            "rouge1: Score(precision=0.75, recall=0.02717391304347826, fmeasure=0.05244755244755245)\n",
            "rouge2: Score(precision=0.2631578947368421, recall=0.009074410163339383, fmeasure=0.01754385964912281)\n",
            "rougeL: Score(precision=0.55, recall=0.019927536231884056, fmeasure=0.03846153846153846)\n",
            "\n",
            "3.118394168440332e-08\n",
            "rouge1: Score(precision=0.7586206896551724, recall=0.039285714285714285, fmeasure=0.07470288624787776)\n",
            "rouge2: Score(precision=0.21428571428571427, recall=0.01073345259391771, fmeasure=0.020442930153321978)\n",
            "rougeL: Score(precision=0.6206896551724138, recall=0.03214285714285714, fmeasure=0.06112054329371816)\n",
            "\n",
            "4.2502157009875364e-05\n",
            "rouge1: Score(precision=0.5454545454545454, recall=0.04040404040404041, fmeasure=0.07523510971786834)\n",
            "rouge2: Score(precision=0.0, recall=0.0, fmeasure=0.0)\n",
            "rougeL: Score(precision=0.3181818181818182, recall=0.02356902356902357, fmeasure=0.0438871473354232)\n",
            "\n",
            "1.1609531641815022e-18\n",
            "rouge1: Score(precision=0.7692307692307693, recall=0.02066115702479339, fmeasure=0.04024144869215291)\n",
            "rouge2: Score(precision=0.16, recall=0.004136504653567736, fmeasure=0.008064516129032258)\n",
            "rougeL: Score(precision=0.6153846153846154, recall=0.01652892561983471, fmeasure=0.03219315895372234)\n",
            "\n",
            "3.359811966268794e-08\n",
            "rouge1: Score(precision=0.6666666666666666, recall=0.038461538461538464, fmeasure=0.07272727272727274)\n",
            "rouge2: Score(precision=0.2, recall=0.011019283746556474, fmeasure=0.020887728459530026)\n",
            "rougeL: Score(precision=0.6190476190476191, recall=0.03571428571428571, fmeasure=0.06753246753246753)\n",
            "\n",
            "2.4086923761399597e-07\n",
            "rouge1: Score(precision=0.8333333333333334, recall=0.04491017964071856, fmeasure=0.08522727272727273)\n",
            "rouge2: Score(precision=0.23529411764705882, recall=0.012012012012012012, fmeasure=0.022857142857142854)\n",
            "rougeL: Score(precision=0.3888888888888889, recall=0.020958083832335328, fmeasure=0.03977272727272727)\n",
            "\n",
            "5.6951354095704494e-11\n",
            "rouge1: Score(precision=0.8260869565217391, recall=0.03822937625754527, fmeasure=0.07307692307692308)\n",
            "rouge2: Score(precision=0.4090909090909091, recall=0.018145161290322582, fmeasure=0.034749034749034756)\n",
            "rougeL: Score(precision=0.6086956521739131, recall=0.028169014084507043, fmeasure=0.05384615384615385)\n",
            "\n",
            "1.4885887859240358e-05\n",
            "rouge1: Score(precision=0.7, recall=0.06542056074766354, fmeasure=0.11965811965811965)\n",
            "rouge2: Score(precision=0.21052631578947367, recall=0.018779342723004695, fmeasure=0.03448275862068966)\n",
            "rougeL: Score(precision=0.55, recall=0.0514018691588785, fmeasure=0.09401709401709403)\n",
            "\n"
          ]
        }
      ]
    },
    {
      "cell_type": "markdown",
      "source": [
        "When fine-tuning a model, it seems very important to either not update the weights every epoch, or use a sufficiently low learning rate. At first, I tried fine-tuning using a normal $1*10^{-3}$ for every single sample, but it ended up overfitting dramatically. It seems like, in general, the recall for the Rouge scores are significantly lower than the precision scores. The BLEU scores also seem very low, and I'm not really sure why. Generally, the high ROUGE precision (relative to recall) imply that most of the terms in the generated summary are also in the candidate summary, while the opposite is not neccesarily true. In the generated summaries, it seems like many terms are erroneously repeated, which is probably why an artificially high ROUGE precision score is reported. I'm not really certain how my results are impacted by the choice of LLM. I imagine a larger model (like facebook-large) would perform better, and a model more taylored towards text summarization would also perform better, but overall this fine-tuned model seems to do at least okay at text summarization. By reading the generated summaries, I can at least get a gist of the actual summary, even if it doesn't make much grammatical sense."
      ],
      "metadata": {
        "id": "TLffg_zMbGXe"
      }
    }
  ]
}