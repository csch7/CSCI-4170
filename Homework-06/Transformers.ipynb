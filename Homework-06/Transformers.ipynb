{
  "nbformat": 4,
  "nbformat_minor": 0,
  "metadata": {
    "colab": {
      "provenance": [],
      "authorship_tag": "ABX9TyO2VuQbTdANdCMKMjc3fpMy",
      "include_colab_link": true
    },
    "kernelspec": {
      "name": "python3",
      "display_name": "Python 3"
    },
    "language_info": {
      "name": "python"
    }
  },
  "cells": [
    {
      "cell_type": "markdown",
      "metadata": {
        "id": "view-in-github",
        "colab_type": "text"
      },
      "source": [
        "<a href=\"https://colab.research.google.com/github/csch7/CSCI-4170/blob/main/Homework-06/Transformers.ipynb\" target=\"_parent\"><img src=\"https://colab.research.google.com/assets/colab-badge.svg\" alt=\"Open In Colab\"/></a>"
      ]
    },
    {
      "cell_type": "markdown",
      "source": [
        "https://paperswithcode.com/dataset/xl-sum"
      ],
      "metadata": {
        "id": "TiQ62q_91tjQ"
      }
    },
    {
      "cell_type": "code",
      "source": [
        "!pip install datasets"
      ],
      "metadata": {
        "colab": {
          "base_uri": "https://localhost:8080/"
        },
        "id": "MTSngS1HutdR",
        "outputId": "8d765e16-2d78-4c1c-e6c0-e517580828cf"
      },
      "execution_count": 1,
      "outputs": [
        {
          "output_type": "stream",
          "name": "stdout",
          "text": [
            "Requirement already satisfied: datasets in /usr/local/lib/python3.11/dist-packages (3.5.0)\n",
            "Requirement already satisfied: filelock in /usr/local/lib/python3.11/dist-packages (from datasets) (3.18.0)\n",
            "Requirement already satisfied: numpy>=1.17 in /usr/local/lib/python3.11/dist-packages (from datasets) (2.0.2)\n",
            "Requirement already satisfied: pyarrow>=15.0.0 in /usr/local/lib/python3.11/dist-packages (from datasets) (18.1.0)\n",
            "Requirement already satisfied: dill<0.3.9,>=0.3.0 in /usr/local/lib/python3.11/dist-packages (from datasets) (0.3.8)\n",
            "Requirement already satisfied: pandas in /usr/local/lib/python3.11/dist-packages (from datasets) (2.2.2)\n",
            "Requirement already satisfied: requests>=2.32.2 in /usr/local/lib/python3.11/dist-packages (from datasets) (2.32.3)\n",
            "Requirement already satisfied: tqdm>=4.66.3 in /usr/local/lib/python3.11/dist-packages (from datasets) (4.67.1)\n",
            "Requirement already satisfied: xxhash in /usr/local/lib/python3.11/dist-packages (from datasets) (3.5.0)\n",
            "Requirement already satisfied: multiprocess<0.70.17 in /usr/local/lib/python3.11/dist-packages (from datasets) (0.70.16)\n",
            "Requirement already satisfied: fsspec<=2024.12.0,>=2023.1.0 in /usr/local/lib/python3.11/dist-packages (from fsspec[http]<=2024.12.0,>=2023.1.0->datasets) (2024.12.0)\n",
            "Requirement already satisfied: aiohttp in /usr/local/lib/python3.11/dist-packages (from datasets) (3.11.14)\n",
            "Requirement already satisfied: huggingface-hub>=0.24.0 in /usr/local/lib/python3.11/dist-packages (from datasets) (0.29.3)\n",
            "Requirement already satisfied: packaging in /usr/local/lib/python3.11/dist-packages (from datasets) (24.2)\n",
            "Requirement already satisfied: pyyaml>=5.1 in /usr/local/lib/python3.11/dist-packages (from datasets) (6.0.2)\n",
            "Requirement already satisfied: aiohappyeyeballs>=2.3.0 in /usr/local/lib/python3.11/dist-packages (from aiohttp->datasets) (2.6.1)\n",
            "Requirement already satisfied: aiosignal>=1.1.2 in /usr/local/lib/python3.11/dist-packages (from aiohttp->datasets) (1.3.2)\n",
            "Requirement already satisfied: attrs>=17.3.0 in /usr/local/lib/python3.11/dist-packages (from aiohttp->datasets) (25.3.0)\n",
            "Requirement already satisfied: frozenlist>=1.1.1 in /usr/local/lib/python3.11/dist-packages (from aiohttp->datasets) (1.5.0)\n",
            "Requirement already satisfied: multidict<7.0,>=4.5 in /usr/local/lib/python3.11/dist-packages (from aiohttp->datasets) (6.2.0)\n",
            "Requirement already satisfied: propcache>=0.2.0 in /usr/local/lib/python3.11/dist-packages (from aiohttp->datasets) (0.3.0)\n",
            "Requirement already satisfied: yarl<2.0,>=1.17.0 in /usr/local/lib/python3.11/dist-packages (from aiohttp->datasets) (1.18.3)\n",
            "Requirement already satisfied: typing-extensions>=3.7.4.3 in /usr/local/lib/python3.11/dist-packages (from huggingface-hub>=0.24.0->datasets) (4.12.2)\n",
            "Requirement already satisfied: charset-normalizer<4,>=2 in /usr/local/lib/python3.11/dist-packages (from requests>=2.32.2->datasets) (3.4.1)\n",
            "Requirement already satisfied: idna<4,>=2.5 in /usr/local/lib/python3.11/dist-packages (from requests>=2.32.2->datasets) (3.10)\n",
            "Requirement already satisfied: urllib3<3,>=1.21.1 in /usr/local/lib/python3.11/dist-packages (from requests>=2.32.2->datasets) (2.3.0)\n",
            "Requirement already satisfied: certifi>=2017.4.17 in /usr/local/lib/python3.11/dist-packages (from requests>=2.32.2->datasets) (2025.1.31)\n",
            "Requirement already satisfied: python-dateutil>=2.8.2 in /usr/local/lib/python3.11/dist-packages (from pandas->datasets) (2.8.2)\n",
            "Requirement already satisfied: pytz>=2020.1 in /usr/local/lib/python3.11/dist-packages (from pandas->datasets) (2025.1)\n",
            "Requirement already satisfied: tzdata>=2022.7 in /usr/local/lib/python3.11/dist-packages (from pandas->datasets) (2025.1)\n",
            "Requirement already satisfied: six>=1.5 in /usr/local/lib/python3.11/dist-packages (from python-dateutil>=2.8.2->pandas->datasets) (1.17.0)\n"
          ]
        }
      ]
    },
    {
      "cell_type": "code",
      "execution_count": 2,
      "metadata": {
        "colab": {
          "base_uri": "https://localhost:8080/"
        },
        "id": "uZcmAH9WdoY2",
        "outputId": "595a6902-84fc-4e3b-a095-bf33396feb95"
      },
      "outputs": [
        {
          "output_type": "stream",
          "name": "stderr",
          "text": [
            "/usr/local/lib/python3.11/dist-packages/huggingface_hub/utils/_auth.py:94: UserWarning: \n",
            "The secret `HF_TOKEN` does not exist in your Colab secrets.\n",
            "To authenticate with the Hugging Face Hub, create a token in your settings tab (https://huggingface.co/settings/tokens), set it as secret in your Google Colab and restart your session.\n",
            "You will be able to reuse this secret in all of your notebooks.\n",
            "Please note that authentication is recommended but still optional to access public models or datasets.\n",
            "  warnings.warn(\n"
          ]
        }
      ],
      "source": [
        "import numpy as np\n",
        "import matplotlib.pyplot as plt\n",
        "import pandas as pd\n",
        "from transformers import BartTokenizer, BartForConditionalGeneration\n",
        "from datasets import load_dataset\n",
        "\n",
        "from google.colab import drive\n",
        "\n",
        "dat = load_dataset('csebuetnlp/xlsum', 'english')\n"
      ]
    },
    {
      "cell_type": "code",
      "source": [
        "train = dat['train'].to_pandas()\n",
        "test = dat['test'].to_pandas()\n",
        "\n",
        "print(train.shape, test.shape)"
      ],
      "metadata": {
        "colab": {
          "base_uri": "https://localhost:8080/"
        },
        "id": "27KErqKtwZLS",
        "outputId": "9a3bd684-de0b-45e9-c203-c403e293bede"
      },
      "execution_count": 3,
      "outputs": [
        {
          "output_type": "stream",
          "name": "stdout",
          "text": [
            "(306522, 5) (11535, 5)\n"
          ]
        }
      ]
    },
    {
      "cell_type": "code",
      "source": [
        "print(train.head())"
      ],
      "metadata": {
        "colab": {
          "base_uri": "https://localhost:8080/"
        },
        "id": "KpQ4XuSm3Moi",
        "outputId": "683458df-60f2-416e-fedc-b3610a3ebafd"
      },
      "execution_count": 4,
      "outputs": [
        {
          "output_type": "stream",
          "name": "stdout",
          "text": [
            "                                       id  \\\n",
            "0                       uk-wales-56321577   \n",
            "1  uk-scotland-highlands-islands-11069985   \n",
            "2               uk-england-leeds-45776523   \n",
            "3                world-us-canada-51010441   \n",
            "4       uk-scotland-glasgow-west-52274685   \n",
            "\n",
            "                                                 url  \\\n",
            "0         https://www.bbc.com/news/uk-wales-56321577   \n",
            "1  https://www.bbc.com/news/uk-scotland-highlands...   \n",
            "2  https://www.bbc.com/news/uk-england-leeds-4577...   \n",
            "3  https://www.bbc.com/news/world-us-canada-51010441   \n",
            "4  https://www.bbc.com/news/uk-scotland-glasgow-w...   \n",
            "\n",
            "                                               title  \\\n",
            "0  Weather alert issued for gale force winds in W...   \n",
            "1   Huge tidal turbine installed at Orkney test site   \n",
            "2  Leeds stabbing: Man attacked outside betting shop   \n",
            "3  Could killing of Iranian general help Trump ge...   \n",
            "4  Coronavirus: 'I've moved out to protect my fam...   \n",
            "\n",
            "                                             summary  \\\n",
            "0  Winds could reach gale force in Wales with sto...   \n",
            "1  The massive tidal turbine AK1000 has been inst...   \n",
            "2  A man has been stabbed in broad daylight outsi...   \n",
            "3  It was inevitable that the fallout from the US...   \n",
            "4  Week four of social distancing is starting to ...   \n",
            "\n",
            "                                                text  \n",
            "0  The Met Office has issued a yellow weather war...  \n",
            "1  Atlantis Resources unveiled the marine energy ...  \n",
            "2  Police were called to the scene outside the Co...  \n",
            "3  Anthony ZurcherNorth America reporter@awzurche...  \n",
            "4  By Debbie JacksonBBC Scotland But while most o...  \n"
          ]
        }
      ]
    },
    {
      "cell_type": "code",
      "source": [
        "train = train.drop(columns=['id', 'url', 'title'])\n",
        "test = test.drop(columns=['id', 'url', 'title'])\n"
      ],
      "metadata": {
        "id": "vqBrlWLp3V_w"
      },
      "execution_count": 5,
      "outputs": []
    },
    {
      "cell_type": "code",
      "source": [
        "print(train.head(), test.head())"
      ],
      "metadata": {
        "colab": {
          "base_uri": "https://localhost:8080/"
        },
        "id": "XcQXkLgL30mo",
        "outputId": "daba26f1-5f72-4c3d-b690-8dc601d7f6cb"
      },
      "execution_count": 6,
      "outputs": [
        {
          "output_type": "stream",
          "name": "stdout",
          "text": [
            "                                             summary  \\\n",
            "0  Winds could reach gale force in Wales with sto...   \n",
            "1  The massive tidal turbine AK1000 has been inst...   \n",
            "2  A man has been stabbed in broad daylight outsi...   \n",
            "3  It was inevitable that the fallout from the US...   \n",
            "4  Week four of social distancing is starting to ...   \n",
            "\n",
            "                                                text  \n",
            "0  The Met Office has issued a yellow weather war...  \n",
            "1  Atlantis Resources unveiled the marine energy ...  \n",
            "2  Police were called to the scene outside the Co...  \n",
            "3  Anthony ZurcherNorth America reporter@awzurche...  \n",
            "4  By Debbie JacksonBBC Scotland But while most o...                                                summary  \\\n",
            "0  Donald Trump campaigned on becoming a presiden...   \n",
            "1  The Welsh Government \"would probably\" take the...   \n",
            "2  A university has mistakenly emailed hundreds o...   \n",
            "3  Some progress has been made in encouraging gir...   \n",
            "4  The president of business organisation, the CB...   \n",
            "\n",
            "                                                text  \n",
            "0  By Kate DaileyBBC News Earlier this week, Trum...  \n",
            "1  But Eluned Morgan conceded that it would be \"d...  \n",
            "2  By Jon Welch and Paul MoseleyBBC News Details ...  \n",
            "3  By Helen BriggsBBC News In 2016, 1.9% of girls...  \n",
            "4  John Allan stressed this was his personal view...  \n"
          ]
        }
      ]
    },
    {
      "cell_type": "code",
      "source": [
        "plt.hist([len(t) for t in train.text], bins=100)\n",
        "plt.xlim(0, 10000)\n",
        "plt.show()"
      ],
      "metadata": {
        "id": "bTPpkorTJY6L",
        "outputId": "8e7bdae1-eccf-43c4-ba78-c5aafb2e9791",
        "colab": {
          "base_uri": "https://localhost:8080/",
          "height": 430
        }
      },
      "execution_count": 7,
      "outputs": [
        {
          "output_type": "display_data",
          "data": {
            "text/plain": [
              "<Figure size 640x480 with 1 Axes>"
            ],
            "image/png": "[encoded data removed]"
          },
          "metadata": {}
        }
      ]
    },
    {
      "cell_type": "code",
      "source": [
        "train = train.sample(frac=1).reset_index(drop=True)\n",
        "train = train[:30000]\n",
        "\n",
        "train = train[train['text'].apply(lambda x: len(x.split(\" \")) <= 2000)]\n",
        "test = test[test['text'].apply(lambda x: len(x.split(\" \")) <= 2000)]\n",
        "\n",
        "train = train.sample(90).reset_index(drop=True)\n",
        "test = test.sample(10).reset_index(drop=True)"
      ],
      "metadata": {
        "id": "2WAPCAQ4KHiw"
      },
      "execution_count": 11,
      "outputs": []
    },
    {
      "cell_type": "code",
      "source": [
        "tokenizer = BartTokenizer.from_pretrained('facebook/bart-base')\n",
        "\n",
        "model = BartForConditionalGeneration.from_pretrained('facebook/bart-base')"
      ],
      "metadata": {
        "id": "Xx4X-Ov-wZc-"
      },
      "execution_count": 12,
      "outputs": []
    },
    {
      "cell_type": "code",
      "source": [
        "import torch\n",
        "from tqdm import tqdm\n",
        "\n",
        "# encoded_articles = []\n",
        "# encoded_summaries = []\n",
        "\n",
        "# # for i in tqdm(range(10000), total=10000):\n",
        "# encoded_articles = tokenizer(list(train.text), padding = 'longest')\n",
        "# # print(len(encoded_articles[-1]['input_ids']))\n",
        "# encoded_summaries = tokenizer(text_target = list(train.summary), padding = 'longest')\n"
      ],
      "metadata": {
        "id": "9_N9rD7W4JF7"
      },
      "execution_count": 13,
      "outputs": []
    },
    {
      "cell_type": "code",
      "source": [
        "from torch import optim\n",
        "from torch.utils.data import Dataset, DataLoader\n",
        "from tqdm import tqdm\n",
        "\n",
        "def train_Bart(data, labels, model, tokenizer, batch_size = 1, epochs = 20, lr = 0.001):\n",
        "\n",
        "  model.train()\n",
        "  optimizer = optim.AdamW(model.parameters(), lr)\n",
        "\n",
        "  for e in range(epochs):\n",
        "    losses = []\n",
        "    # train_loader = iter(train_l)\n",
        "    i = 0\n",
        "    for b in range(np.shape(data)[0]//batch_size):\n",
        "      optimizer.zero_grad()\n",
        "      d = data[b*batch_size : (b+1)*batch_size]\n",
        "      t = labels[b*batch_size : (b+1)*batch_size]\n",
        "      batch = tokenizer(d, padding = 'longest', max_length = 1024, truncation = True)\n",
        "      attn = torch.LongTensor(batch['attention_mask'])\n",
        "      batch = torch.LongTensor(batch['input_ids'])\n",
        "      tar = torch.LongTensor(tokenizer(text_target = t, max_length = 1024, padding = 'longest', truncation = True)['input_ids'])\n",
        "      model_output = model(batch, attn, labels = tar)\n",
        "      loss = model_output.loss\n",
        "      losses.append(loss.item())\n",
        "      loss.backward()\n",
        "      optimizer.step()\n",
        "      i+=1\n",
        "    print(\"Epoch {} | Loss {:.5f}\".format(e, np.mean(losses)))\n",
        "\n",
        "train_Bart(list(train.text), list(train.summary), model, tokenizer)"
      ],
      "metadata": {
        "colab": {
          "base_uri": "https://localhost:8080/"
        },
        "id": "6oPdmCskS0CY",
        "outputId": "190ac99c-6dcb-414d-cd0a-34a746ff29b4"
      },
      "execution_count": 16,
      "outputs": [
        {
          "output_type": "stream",
          "name": "stdout",
          "text": [
            "90\n",
            "Epoch 0 | Loss 9.35428\n",
            "Epoch 1 | Loss 7.07859\n",
            "Epoch 2 | Loss 6.75079\n",
            "Epoch 3 | Loss 6.65174\n",
            "Epoch 4 | Loss 6.43700\n",
            "Epoch 5 | Loss 6.39476\n",
            "Epoch 6 | Loss 6.36023\n",
            "Epoch 7 | Loss 6.24917\n",
            "Epoch 8 | Loss 6.20183\n",
            "Epoch 9 | Loss 6.30769\n",
            "Epoch 10 | Loss 6.16971\n",
            "Epoch 11 | Loss 6.11458\n",
            "Epoch 12 | Loss 6.16380\n",
            "Epoch 13 | Loss 6.08092\n",
            "Epoch 14 | Loss 6.19205\n",
            "Epoch 15 | Loss 6.03631\n",
            "Epoch 16 | Loss 6.07624\n",
            "Epoch 17 | Loss 5.99826\n",
            "Epoch 18 | Loss 6.16777\n",
            "Epoch 19 | Loss 6.21521\n"
          ]
        }
      ]
    },
    {
      "cell_type": "code",
      "source": [
        "model.eval()\n",
        "with torch.no_grad():\n",
        "  for b in range(10):\n",
        "    d = list(test.text)[b*batch_size : (b+1)*batch_size]\n",
        "    t = list(test.summary)[b*batch_size : (b+1)*batch_size]\n",
        "    batch = tokenizer(d, padding = 'longest', max_length = 1024, truncation = True)\n",
        "    attn = torch.LongTensor(batch['attention_mask'])\n",
        "    batch = torch.LongTensor(batch['input_ids'])\n",
        "    model_output = model(batch, attn)\n",
        "    pred = model_output.logits\n",
        "\n"
      ],
      "metadata": {
        "id": "uJbZACuYzTP3"
      },
      "execution_count": null,
      "outputs": []
    }
  ]
}