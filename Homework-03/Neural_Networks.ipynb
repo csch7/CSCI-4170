{
  "nbformat": 4,
  "nbformat_minor": 0,
  "metadata": {
    "colab": {
      "provenance": [],
      "authorship_tag": "ABX9TyMzrf+ArVQwQ4n9f8eBqm2u",
      "include_colab_link": true
    },
    "kernelspec": {
      "name": "python3",
      "display_name": "Python 3"
    },
    "language_info": {
      "name": "python"
    }
  },
  "cells": [
    {
      "cell_type": "markdown",
      "metadata": {
        "id": "view-in-github",
        "colab_type": "text"
      },
      "source": [
        "<a href=\"https://colab.research.google.com/github/csch7/CSCI-4170/blob/main/Homework-03/Neural_Networks.ipynb\" target=\"_parent\"><img src=\"https://colab.research.google.com/assets/colab-badge.svg\" alt=\"Open In Colab\"/></a>"
      ]
    },
    {
      "cell_type": "code",
      "execution_count": null,
      "metadata": {
        "id": "dsivCCOtJLQ0"
      },
      "outputs": [],
      "source": []
    },
    {
      "cell_type": "code",
      "source": [
        "import numpy as np\n",
        "import matplotlib.pyplot as plt\n",
        "import pandas as pd\n",
        "from google.colab import drive\n",
        "drive.mount('/content/drive')\n",
        "df = pd.read_csv(\"/content/drive/MyDrive/Colab Notebooks/diabetic_data.csv\")\n",
        "\n",
        "for c in df.columns:\n",
        "  pctUnknown = np.sum([df[c] == '?'])/df[c].shape[0]\n",
        "  print(c, pctUnknown)\n",
        "  if(pctUnknown > 0.02):\n",
        "    df.drop(c, inplace = True)\n",
        "  else:\n",
        "    df.drop(df[df[c] == '?'], axis = 0)\n",
        "\n",
        "df.drop('diag_1', inplace = True)\n",
        "df.drop('diag_2', inplace = True)\n",
        "df.drop('diag_3', inplace = True)\n",
        "df.replace('No', 0, inplace = True)\n"
      ],
      "metadata": {
        "colab": {
          "base_uri": "https://localhost:8080/"
        },
        "id": "P7re2mfwpgZN",
        "outputId": "5b43550d-f41e-4be6-db8e-5da0fc2e5c11"
      },
      "execution_count": 7,
      "outputs": [
        {
          "output_type": "stream",
          "name": "stdout",
          "text": [
            "Drive already mounted at /content/drive; to attempt to forcibly remount, call drive.mount(\"/content/drive\", force_remount=True).\n",
            "encounter_id 0.0\n",
            "patient_nbr 0.0\n",
            "race 0.022335554114340742\n",
            "gender 0.0\n",
            "age 0.0\n",
            "weight 0.9685847925633315\n",
            "admission_type_id 0.0\n",
            "discharge_disposition_id 0.0\n",
            "admission_source_id 0.0\n",
            "time_in_hospital 0.0\n",
            "payer_code 0.395574160328597\n",
            "medical_specialty 0.49082208203132677\n",
            "num_lab_procedures 0.0\n",
            "num_procedures 0.0\n",
            "num_medications 0.0\n",
            "number_outpatient 0.0\n",
            "number_emergency 0.0\n",
            "number_inpatient 0.0\n",
            "diag_1 0.0002063557573256294\n",
            "diag_2 0.0035178743391702533\n",
            "diag_3 0.013983059174970029\n",
            "number_diagnoses 0.0\n",
            "max_glu_serum 0.0\n",
            "A1Cresult 0.0\n",
            "metformin 0.0\n",
            "repaglinide 0.0\n",
            "nateglinide 0.0\n",
            "chlorpropamide 0.0\n",
            "glimepiride 0.0\n",
            "acetohexamide 0.0\n",
            "glipizide 0.0\n",
            "glyburide 0.0\n",
            "tolbutamide 0.0\n",
            "pioglitazone 0.0\n",
            "rosiglitazone 0.0\n",
            "acarbose 0.0\n",
            "miglitol 0.0\n",
            "troglitazone 0.0\n",
            "tolazamide 0.0\n",
            "examide 0.0\n",
            "citoglipton 0.0\n",
            "insulin 0.0\n",
            "glyburide-metformin 0.0\n",
            "glipizide-metformin 0.0\n",
            "glimepiride-pioglitazone 0.0\n",
            "metformin-rosiglitazone 0.0\n",
            "metformin-pioglitazone 0.0\n",
            "change 0.0\n",
            "diabetesMed 0.0\n",
            "readmitted 0.0\n"
          ]
        }
      ]
    },
    {
      "cell_type": "code",
      "source": [
        "class myNeuralNetwork:\n",
        "  def __init__(self, num_hidden_layers, hidden_dim, train_data, train_targets, epochs, lr=0.01):\n",
        "    self.epochs = epochs\n",
        "    self.learning_rate = lr\n",
        "    self.hidden_layers = num_hidden_layers\n",
        "    self.weights = [np.random.uniform(-0.1, 0.1, (np.shape(train_data)[1], hidden_dim))]\n",
        "    self.biases = [np.random.uniform(-0.1, 0.1, (hidden_dim, 1))]\n",
        "    for i in range(1, num_hidden_layers):\n",
        "      self.weights.append(np.random.uniform(-0.1, 0.1, (hidden_dim, hidden_dim)))\n",
        "      self.biases.append(np.random.uniform(-0.1, 0.1, (hidden_dim, 1)))\n",
        "    self.weights.append(np.random.uniform(-0.1, 0.1, (hidden_dim, np.shape(train_targets)[1])))\n",
        "    self.biases.append(np.random.uniform(-0.1, 0.1, (np.shape(train_targets)[1])))\n",
        "\n",
        "  def forward(self, data):\n",
        "    z = []\n",
        "    a = [data.T]\n",
        "    for l in range(self.hidden_layers+1):\n",
        "      z.append(np.matmul(self.weights[l].T, a[l]) + self.biases[l])\n",
        "      if(l != self.hidden_layers):\n",
        "        a.append(np.tanh(z[l]))\n",
        "      else:\n",
        "        a.append(np.exp(z[l])/np.sum(np.exp(z[l]), axis = 0))\n",
        "    return a\n",
        "\n",
        "  def backward(self, a):\n",
        "    deltas = [0] * (self.hidden_layers+1)\n",
        "    deltas[-1] = (a[-1]-self.train_targets)*(self.train_targets - a[-1])\n",
        "    for l in range(self.num_hidden_layers-1, -1, -1):\n",
        "      deltas[l] = np.matmul(deltas[l+1], self.weights[l])*(1-np.tanh(a[l])**2)\n",
        "    return deltas\n",
        "\n",
        "\n",
        "  def train(self):\n",
        "    N = np.shape(self.train_data)[0]\n",
        "    for e in range(self.epochs):\n",
        "      a = self.forward(self, self.train_data)\n",
        "      dels = self.backward(a)\n",
        "\n",
        "      for l in range(self.hidden_layers+1):\n",
        "        self.weights[l] -= self.learning_rate*(np.matmul(dels[l].T, a[l]))\n",
        "        self.biases[l] -= self.learning_rate*dels[l].T\n",
        "\n",
        "  def cost(self, preds, tars):\n",
        "    return np.sum(-np.log(preds[tars]), axis=1)/np.shape(preds)[0]\n"
      ],
      "metadata": {
        "id": "B_J4_eDLqgt3"
      },
      "execution_count": null,
      "outputs": []
    }
  ]
}