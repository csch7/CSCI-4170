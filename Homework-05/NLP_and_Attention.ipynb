{
  "nbformat": 4,
  "nbformat_minor": 0,
  "metadata": {
    "colab": {
      "provenance": [],
      "authorship_tag": "ABX9TyO9mRcnM94qmYoPAWk1YOKl",
      "include_colab_link": true
    },
    "kernelspec": {
      "name": "python3",
      "display_name": "Python 3"
    },
    "language_info": {
      "name": "python"
    }
  },
  "cells": [
    {
      "cell_type": "markdown",
      "metadata": {
        "id": "view-in-github",
        "colab_type": "text"
      },
      "source": [
        "<a href=\"https://colab.research.google.com/github/csch7/CSCI-4170/blob/main/Homework-05/NLP_and_Attention.ipynb\" target=\"_parent\"><img src=\"https://colab.research.google.com/assets/colab-badge.svg\" alt=\"Open In Colab\"/></a>"
      ]
    },
    {
      "cell_type": "code",
      "execution_count": 6,
      "metadata": {
        "id": "quFtVxPPBMLP"
      },
      "outputs": [],
      "source": [
        "import numpy as np\n",
        "import matplotlib.pyplot as plt\n",
        "import torch\n",
        "from torch import nn"
      ]
    },
    {
      "cell_type": "code",
      "source": [
        "def softmax(scores):\n",
        "  return torch.exp(scores) / torch.sum(torch.exp(scores), dim = 1)\n",
        "\n",
        "def scaled_dot_product_attention(queries, keys, values):\n",
        "  scores = (queries @ keys.T) / torch.sqrt(keys.shape[-1])\n",
        "  s = softmax(scores)\n",
        "  return s @ values\n",
        "\n",
        "\n",
        "# class DotProductAttention(nn.Layer):\n",
        "#   def __init__(self):\n",
        "#     super().__init__()\n",
        "\n",
        "#   def call(self, queries, keys, values):\n"
      ],
      "metadata": {
        "id": "IKCGMAcevO22"
      },
      "execution_count": 7,
      "outputs": []
    },
    {
      "cell_type": "code",
      "source": [
        "class Encoder(nn.Module):\n",
        "  def __init__(self, input_dim, embed_dim, hidden_dim):\n",
        "    super().__init__()\n",
        "    self.embed = nn.Embedding(input_dim, embed_dim)\n",
        "    self.lstm = nn.LSTM(embed_dim, hidden_dim, bidirectional=True)\n",
        "    self.fc = nn.Linear(2*hidden_dim, hidden_dim)\n",
        "    self.tanh = nn.Tanh()\n",
        "\n",
        "  def forward(self, x):\n",
        "    em = self.embed(x)\n",
        "    lstm_out, (hidden, _) = self.lstm(em)\n",
        "    return lstm_out, self.tanh(self.fc(torch.cat((hidden[0], hidden[1]), dim=1)))\n",
        "\n",
        "class Decoder(nn.Module):\n",
        "  def __init__(self, embed_dim, hidden_dim, output_dim):\n",
        "    super().__init()\n",
        "    self.embed = nn.Embedding(output_dim, embed_dim)\n",
        "    self.lstm = nn.LSTM(hidden_dim + embed_dim, hidden_dim)\n",
        "    self.fc = nn.Linear(hidden_dim, output_dim)\n",
        "\n",
        "  def forward(self, targets, hidden, encoder_out):\n",
        "    em = self.embed(targets)\n",
        "    attn = scaled_dot_product_attention(hidden[-1], encoder_out, encoder_out)\n",
        "    lstm_out, (hidden, _) = self.lstm(torch.cat((em, attn), dim=2))\n",
        "    return self.fc(lstm_out), hidden\n",
        "\n",
        "class Seq2SeqAttn(nn.Module):\n",
        "  def __init__(self, enc, dec):\n",
        "    super().__init__()\n",
        "    self.encoder = enc\n",
        "    self.decoder = dec\n",
        "\n",
        "  def forward(self, inputs, targets):\n",
        "    tar_len = targets.shape[0]\n",
        "    tar_size = targets.shape[1]\n",
        "    outputs = torch.zeros(tar_len, tar_size)\n",
        "    enc_out, hidden = self.encoder(inputs)\n",
        "    for i in range(1, tar_len):\n",
        "      dec_out, hidden = self.decoder(targets[i], hidden, enc_out)\n",
        "      outputs[i] = dec_out\n",
        "    return outputs\n"
      ],
      "metadata": {
        "id": "clSrKOutXJPw"
      },
      "execution_count": 9,
      "outputs": []
    },
    {
      "cell_type": "code",
      "source": [
        "\n",
        "class PositionalEncoding(nn.Module):\n",
        "  def __init__(self):\n",
        "    super().__init__()\n",
        "\n",
        "  def forward(self, x, seq_len, embedding_dim):\n",
        "    embedding = torch.zeros((seq_len, embedding_dim))\n",
        "    positions = torch.arange(seq_len)\n",
        "    embedding[positions, ::2] = torch.sin(positions*(10000**(2*torch.arange(embedding_dim)[:embedding_dim//2]/embedding_dim)))\n",
        "    embedding[positions, 1::2] = torch.cos(positions*(10000**(2*torch.arange(embedding_dim)[:embedding_dim//2]/embedding_dim)))\n",
        "    return embedding\n",
        "\n",
        "\n",
        "class ScaledDotProductAttention(nn.Module):\n",
        "  def __init__(self):\n",
        "    super().__init__()\n",
        "\n",
        "  def forward(self, q, k, v):\n",
        "    scores = np.matmul(q, k.T) / np.sqrt(np.shape(k)[-1])\n",
        "    s = softmax(scores)\n",
        "    return np.matmul(s, v)\n",
        "\n",
        "class MultiHeadAttention(nn.Module):\n",
        "  def __init__(self, num_heads):\n",
        "    self.nh = num_heads\n",
        "\n",
        "\n",
        "class FFN(nn.Module):\n",
        "  def __init__(self, embedding_dim = 64, hidden_dim = 128):\n",
        "    super().__init__()\n",
        "    self.w1 = nn.Parameter(torch.randn(embedding_dim, hidden_dim))\n",
        "    self.b1 = nn.Parameter(torch.randn(hidden_dim))\n",
        "    self.w2 = nn.Parameter(torch.randn(hidden_dim, embedding_dim))\n",
        "    self.b2 = nn.Parameter(torch.randn(embedding_dim))\n",
        "\n",
        "  def forward(self, x):\n",
        "    return (torch.max(0, (x @ self.w1) + self.b1) @ self.w2) + self.b2\n",
        "\n",
        "\n",
        "class encoder(nn.Module):\n",
        "  def __init__(self, embedding_dim = 64):\n",
        "    super().__init__()\n",
        "\n",
        "\n",
        "\n",
        "class decoder(nn.Module):\n",
        "\n",
        "\n",
        "\n",
        "class Transformer(nn.Module):"
      ],
      "metadata": {
        "id": "8HxBa9HVQylR"
      },
      "execution_count": null,
      "outputs": []
    }
  ]
}