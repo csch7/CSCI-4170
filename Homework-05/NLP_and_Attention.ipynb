{
  "nbformat": 4,
  "nbformat_minor": 0,
  "metadata": {
    "colab": {
      "provenance": [],
      "authorship_tag": "ABX9TyMJwAGegCGo5dhtyF5S0xJe",
      "include_colab_link": true
    },
    "kernelspec": {
      "name": "python3",
      "display_name": "Python 3"
    },
    "language_info": {
      "name": "python"
    }
  },
  "cells": [
    {
      "cell_type": "markdown",
      "metadata": {
        "id": "view-in-github",
        "colab_type": "text"
      },
      "source": [
        "<a href=\"https://colab.research.google.com/github/csch7/CSCI-4170/blob/main/Homework-05/NLP_and_Attention.ipynb\" target=\"_parent\"><img src=\"https://colab.research.google.com/assets/colab-badge.svg\" alt=\"Open In Colab\"/></a>"
      ]
    },
    {
      "cell_type": "code",
      "execution_count": null,
      "metadata": {
        "id": "quFtVxPPBMLP"
      },
      "outputs": [],
      "source": [
        "import numpy as np\n",
        "import matplotlib.pyplot as plt\n",
        "import torch\n",
        "from torch import nn"
      ]
    },
    {
      "cell_type": "code",
      "source": [
        "def softmax(scores):\n",
        "  return np.exp(scores) / np.sum(np.exp(scores), axis = 1)\n",
        "\n",
        "def scaled_dot_product_attention(queries, keys, values):\n",
        "  scores = np.matmul(queries, keys.T) / np.sqrt(np.shape(keys)[-1])\n",
        "  return softmax(scores)\n",
        "\n",
        "\n",
        "# class DotProductAttention(nn.Layer):\n",
        "#   def __init__(self):\n",
        "#     super().__init__()\n",
        "\n",
        "#   def call(self, queries, keys, values):\n"
      ],
      "metadata": {
        "id": "IKCGMAcevO22"
      },
      "execution_count": null,
      "outputs": []
    }
  ]
}