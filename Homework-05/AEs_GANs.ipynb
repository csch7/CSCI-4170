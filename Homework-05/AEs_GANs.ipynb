{
  "nbformat": 4,
  "nbformat_minor": 0,
  "metadata": {
    "colab": {
      "provenance": [],
      "authorship_tag": "ABX9TyPmhx9FOLZUTyHV/22dSWwX",
      "include_colab_link": true
    },
    "kernelspec": {
      "name": "python3",
      "display_name": "Python 3"
    },
    "language_info": {
      "name": "python"
    }
  },
  "cells": [
    {
      "cell_type": "markdown",
      "metadata": {
        "id": "view-in-github",
        "colab_type": "text"
      },
      "source": [
        "<a href=\"https://colab.research.google.com/github/csch7/CSCI-4170/blob/main/Homework-05/AEs_GANs.ipynb\" target=\"_parent\"><img src=\"https://colab.research.google.com/assets/colab-badge.svg\" alt=\"Open In Colab\"/></a>"
      ]
    },
    {
      "cell_type": "code",
      "execution_count": 25,
      "metadata": {
        "id": "G9xpXY4FA0l0"
      },
      "outputs": [],
      "source": [
        "import matplotlib.pyplot as plt\n",
        "import numpy as np\n",
        "\n",
        "from google.colab import drive\n",
        "\n",
        "drive.mount('/content/drive')\n",
        "\n",
        "train_im ="
      ]
    },
    {
      "cell_type": "code",
      "source": [
        "import torch.nn as nn\n",
        "\n",
        "class CVAE(nn.Module):\n",
        "  def __init__(self, latent_dim, input_dim = (28, 28)):\n",
        "    super().__init__()\n",
        "    self.latent_dim = latent_dim\n",
        "    self.encoder = nn.Sequential(\n",
        "        nn.Conv2d(1, 32, kernel_size = (3,3), stride = 2, padding = 1),\n",
        "        nn.ReLU(),\n",
        "        nn.Conv2d(32, 64, kernel_size = (3,3), stride = 2, padding = 1),\n",
        "        nn.ReLU(),\n",
        "        nn.Flatten(),\n",
        "        nn.Linear(64 * input_dim[0] * input_dim[1], latent_dim*2)\n",
        "    )\n",
        "\n",
        "    self.decoder = nn.Sequential(\n",
        "        nn.Linear()\n",
        "    )"
      ],
      "metadata": {
        "id": "BsQPZJgLO7B5"
      },
      "execution_count": 1,
      "outputs": []
    },
    {
      "cell_type": "code",
      "source": [
        "class ShapePrint(nn.Module):\n",
        "  def __init__(self):\n",
        "    super().__init__()\n",
        "\n",
        "  def forward(self, x):\n",
        "    print(x.shape)\n",
        "    return x\n",
        "\n",
        "\n",
        "class Generator(nn.Module):\n",
        "  def __init__(self):\n",
        "    super().__init__()\n",
        "    self.layers = nn.Sequential(\n",
        "        nn.Linear(100, 256*7*7, bias=False),\n",
        "        nn.Unflatten(1, (256, 7, 7)),\n",
        "        nn.LeakyReLU(),\n",
        "        ShapePrint(),\n",
        "        nn.ConvTranspose2d(256, 128, kernel_size = (5,5), stride = 1, padding = 2, bias=False),\n",
        "        nn.BatchNorm2d(128),\n",
        "        nn.LeakyReLU(),\n",
        "        ShapePrint(),\n",
        "        nn.ConvTranspose2d(128, 64, kernel_size = (5,5), stride = 2, padding = 2, output_padding=1, bias=False),\n",
        "        nn.BatchNorm2d(64),\n",
        "        nn.LeakyReLU(),\n",
        "        ShapePrint(),\n",
        "        nn.ConvTranspose2d(64, 1, kernel_size = (5,5), stride = 2, padding = 2, output_padding=1, bias=False),\n",
        "        nn.Tanh()\n",
        "    )\n",
        "\n",
        "  def forward(self, x):\n",
        "    return self.layers(x)\n",
        "\n",
        "class Discriminator(nn.Module):\n",
        "  def __init__(self, input_size):\n",
        "    super().__init__()\n",
        "    self.layers = nn.Sequential(\n",
        "        nn.Conv2d(1, 64, kernel_size = (5, 5), stride = 2, padding = 2),\n",
        "        nn.LeakyReLU(),\n",
        "        nn.Dropout(0.3),\n",
        "        nn.Conv2d(64, 128, kernel_size = (5, 5), stride = 2, padding = 2),\n",
        "        nn.LeakyReLU(),\n",
        "        nn.Dropout(0.3),\n",
        "        nn.Flatten(),\n",
        "        nn.Linear(input_size//4*(input_size//4)*128, 1)\n",
        "    )\n",
        "\n",
        "  def forward(self, x):\n",
        "    return self.layers(x)\n",
        "\n"
      ],
      "metadata": {
        "id": "f8MPwvhwXsZa"
      },
      "execution_count": 102,
      "outputs": []
    },
    {
      "cell_type": "code",
      "source": [
        "import torch\n",
        "\n",
        "generator = Generator()\n",
        "\n",
        "noise = torch.randn([1, 100])\n",
        "# noise = noise.unsqueeze(0).unsqueeze(0)\n",
        "generated_image = generator(noise)\n",
        "gen_im = torch.Tensor.detach(generated_image).numpy()\n",
        "plt.imshow(gen_im[0, 0, :, :], cmap='gray')\n",
        "\n",
        "discriminator = Discriminator(28)\n",
        "\n",
        "print(discriminator(generated_image))"
      ],
      "metadata": {
        "id": "pTgrHIztkVNB",
        "outputId": "2e2c5ec4-6990-4600-e842-0c61cd07e164",
        "colab": {
          "base_uri": "https://localhost:8080/",
          "height": 499
        }
      },
      "execution_count": 115,
      "outputs": [
        {
          "output_type": "stream",
          "name": "stdout",
          "text": [
            "torch.Size([1, 256, 7, 7])\n",
            "torch.Size([1, 128, 7, 7])\n",
            "torch.Size([1, 64, 14, 14])\n",
            "tensor([[0.0852]], grad_fn=<AddmmBackward0>)\n"
          ]
        },
        {
          "output_type": "display_data",
          "data": {
            "text/plain": [
              "<Figure size 640x480 with 1 Axes>"
            ],
            "image/png": "[encoded data removed]"
          },
          "metadata": {}
        }
      ]
    },
    {
      "cell_type": "code",
      "source": [
        "from torch import optim\n",
        "\n",
        "bce_loss = nn.BCEWithLogitsLoss()\n",
        "\n",
        "def gen_loss(output):\n",
        "  return bce_loss(torch.ones_like(output), output)\n",
        "\n",
        "def disc_loss(real, fake):\n",
        "  real_loss = bce_loss(torch.ones_like(real), real)\n",
        "  fake_loss = bce_loss(torch.zeros_like(fake), fake)\n",
        "  return real_loss + fake_loss\n",
        "\n",
        "gen_opt = optim.Adam(generator.parameters(), lr = 0.0001)\n",
        "disc_opt = optim.Adam(discriminator.parameters(), lr = 0.0001)\n",
        "BATCH_SIZE = 32\n",
        "noise_dim = 100\n",
        "epochs = 50\n",
        "\n",
        "train_im = []\n",
        "\n",
        "\n",
        "for e in range(epochs):\n",
        "  generated_images = generator()\n",
        "\n",
        "  real_output = discriminator(train_im)\n",
        "  fake_output = discriminator(generated_images)\n",
        "\n",
        "  gen_l = gen_loss(fake_output)\n",
        "  disc_l = disc_loss(real_output, fake_output)\n",
        "\n",
        "  gen_l.backward()\n",
        "  gen_opt.step()\n",
        "  disc_l.backward()\n",
        "  disc_opt.step()\n",
        "\n",
        ""
      ],
      "metadata": {
        "id": "axg7c0HRsgK4",
        "outputId": "151625a3-324f-4c30-98be-79c0a246ca8e",
        "colab": {
          "base_uri": "https://localhost:8080/",
          "height": 211
        }
      },
      "execution_count": 119,
      "outputs": [
        {
          "output_type": "error",
          "ename": "TypeError",
          "evalue": "Adam.__init__() missing 1 required positional argument: 'params'",
          "traceback": [
            "\u001b[0;31m---------------------------------------------------------------------------\u001b[0m",
            "\u001b[0;31mTypeError\u001b[0m                                 Traceback (most recent call last)",
            "\u001b[0;32m<ipython-input-119-59a0b457e3d6>\u001b[0m in \u001b[0;36m<cell line: 0>\u001b[0;34m()\u001b[0m\n\u001b[1;32m     11\u001b[0m   \u001b[0;32mreturn\u001b[0m \u001b[0mreal_loss\u001b[0m \u001b[0;34m+\u001b[0m \u001b[0mfake_loss\u001b[0m\u001b[0;34m\u001b[0m\u001b[0;34m\u001b[0m\u001b[0m\n\u001b[1;32m     12\u001b[0m \u001b[0;34m\u001b[0m\u001b[0m\n\u001b[0;32m---> 13\u001b[0;31m \u001b[0mgen_opt\u001b[0m \u001b[0;34m=\u001b[0m \u001b[0moptim\u001b[0m\u001b[0;34m.\u001b[0m\u001b[0mAdam\u001b[0m\u001b[0;34m(\u001b[0m\u001b[0mlr\u001b[0m \u001b[0;34m=\u001b[0m \u001b[0;36m0.0001\u001b[0m\u001b[0;34m)\u001b[0m\u001b[0;34m\u001b[0m\u001b[0;34m\u001b[0m\u001b[0m\n\u001b[0m\u001b[1;32m     14\u001b[0m \u001b[0mdisc_opt\u001b[0m \u001b[0;34m=\u001b[0m \u001b[0moptim\u001b[0m\u001b[0;34m.\u001b[0m\u001b[0mAdam\u001b[0m\u001b[0;34m(\u001b[0m\u001b[0mlr\u001b[0m \u001b[0;34m=\u001b[0m \u001b[0;36m0.0001\u001b[0m\u001b[0;34m)\u001b[0m\u001b[0;34m\u001b[0m\u001b[0;34m\u001b[0m\u001b[0m\n\u001b[1;32m     15\u001b[0m \u001b[0mBATCH_SIZE\u001b[0m \u001b[0;34m=\u001b[0m \u001b[0;36m32\u001b[0m\u001b[0;34m\u001b[0m\u001b[0;34m\u001b[0m\u001b[0m\n",
            "\u001b[0;31mTypeError\u001b[0m: Adam.__init__() missing 1 required positional argument: 'params'"
          ]
        }
      ]
    },
    {
      "cell_type": "code",
      "source": [],
      "metadata": {
        "id": "Q7NHAa5gwiBb"
      },
      "execution_count": null,
      "outputs": []
    }
  ]
}