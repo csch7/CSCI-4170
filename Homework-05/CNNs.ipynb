{
  "nbformat": 4,
  "nbformat_minor": 0,
  "metadata": {
    "colab": {
      "provenance": [],
      "authorship_tag": "ABX9TyM1RBYSxVlFcouJ4FZsES9y",
      "include_colab_link": true
    },
    "kernelspec": {
      "name": "python3",
      "display_name": "Python 3"
    },
    "language_info": {
      "name": "python"
    }
  },
  "cells": [
    {
      "cell_type": "markdown",
      "metadata": {
        "id": "view-in-github",
        "colab_type": "text"
      },
      "source": [
        "<a href=\"https://colab.research.google.com/github/csch7/CSCI-4170/blob/main/Homework-05/CNNs.ipynb\" target=\"_parent\"><img src=\"https://colab.research.google.com/assets/colab-badge.svg\" alt=\"Open In Colab\"/></a>"
      ]
    },
    {
      "cell_type": "code",
      "execution_count": 1,
      "metadata": {
        "id": "euz2B9VeATjS",
        "colab": {
          "base_uri": "https://localhost:8080/"
        },
        "outputId": "0b0c82d3-2f70-4734-a7bd-a50d8a502edb"
      },
      "outputs": [
        {
          "output_type": "stream",
          "name": "stdout",
          "text": [
            "Mounted at /content/drive\n"
          ]
        }
      ],
      "source": [
        "import numpy as np\n",
        "import matplotlib.pyplot as plt\n",
        "import torchvision\n",
        "import torch\n",
        "\n",
        "from google.colab import drive\n",
        "\n",
        "drive.mount('/content/drive')\n",
        "\n",
        "im_transform = torchvision.transforms.Compose([torchvision.transforms.Resize((256,256)),torchvision.transforms.ToTensor(),\n",
        "                                               torchvision.transforms.Normalize(mean=[0.485, 0.456, 0.406], std=[0.229, 0.224, 0.225])])\n",
        "\n",
        "train_dat = torchvision.datasets.ImageFolder('/content/drive/MyDrive/Colab Notebooks/apple_plant_disease/Train/Train', transform = im_transform)\n",
        "train_loader = torch.utils.data.DataLoader(train_dat, batch_size = 32, shuffle = True)\n",
        "valid_dat = torchvision.datasets.ImageFolder('/content/drive/MyDrive/Colab Notebooks/apple_plant_disease/Validation/Validation', transform = im_transform)\n",
        "valid_loader = torch.utils.data.DataLoader(valid_dat, batch_size=len(valid_dat), shuffle = True)\n",
        "test_dat = torchvision.datasets.ImageFolder('/content/drive/MyDrive/Colab Notebooks/apple_plant_disease/Test/Test', transform = im_transform)\n",
        "test_loader = torch.utils.data.DataLoader(test_dat)\n"
      ]
    },
    {
      "cell_type": "code",
      "source": [
        "from torch import nn\n",
        "\n",
        "class CNN(nn.Module):\n",
        "  def __init__(self):\n",
        "    super().__init__()\n",
        "    self.conv1 = nn.Conv2d(3, 64, kernel_size=(3,3), stride = 1, padding = 1)\n",
        "    self.conv2 = nn.Conv2d(64, 64, kernel_size=(3,3), stride = 1, padding = 1)\n",
        "    self.conv3 = nn.Conv2d(64, 32, kernel_size=(3,3), stride = 1, padding = 1)\n",
        "    self.pool = nn.MaxPool2d((2,2))\n",
        "    self.relu = nn.ReLU()\n",
        "    self.fc1 = nn.Linear(32*32*32, 1024)\n",
        "    self.fc2 = nn.Linear(1024, 128)\n",
        "    self.fc3 = nn.Linear(128, 3)\n",
        "    self.sm = nn.Softmax(dim=1)\n",
        "\n",
        "  def forward(self, x):\n",
        "    x = self.pool(self.relu(self.conv1(x)))\n",
        "    x = self.pool(self.relu(self.conv2(x)))\n",
        "    x = self.pool(self.relu(self.conv3(x)))\n",
        "    x = torch.flatten(x, 1)\n",
        "    x = self.relu(self.fc1(x))\n",
        "    x = self.relu(self.fc2(x))\n",
        "    x = self.relu(self.fc3(x))\n",
        "    return self.sm(x)\n",
        "\n",
        "\n"
      ],
      "metadata": {
        "id": "MvXnY6LRJX6O"
      },
      "execution_count": 4,
      "outputs": []
    },
    {
      "cell_type": "code",
      "source": [
        "from torch import optim\n",
        "from sklearn.metrics import accuracy_score\n",
        "from tqdm import tqdm\n",
        "\n",
        "epochs = 30\n",
        "lr = 0.001\n",
        "model = CNN()\n",
        "# model.to(torch.device('cuda'))\n",
        "loss_fn = nn.CrossEntropyLoss()\n",
        "optimizer = optim.Adam(model.parameters(), lr)\n",
        "\n",
        "for e in range(epochs):\n",
        "  model.train()\n",
        "  losses = []\n",
        "  for i, (x, y) in tqdm(enumerate(train_loader), total=len(train_loader)):\n",
        "    optimizer.zero_grad()\n",
        "    # x = x.to(torch.device('cuda'))\n",
        "    # y = y.to(torch.device('cuda'))\n",
        "    pred = model(x)\n",
        "    loss = loss_fn(pred, y)\n",
        "    losses.append(loss.item())\n",
        "    loss.backward()\n",
        "    optimizer.step()\n",
        "  print(\"Epoch: {} | Loss: {:.4f}\".format(e,np.mean(losses)))\n",
        "  best_pred = 0\n",
        "  model.eval()\n",
        "  with torch.no_grad():\n",
        "    for (x, y) in valid_loader:\n",
        "      # x = x.to(torch.device('cuda'))\n",
        "      pred = torch.argmax(model(x),1)\n",
        "      print(\"Validation Accuracy {:.4f}\".format(accuracy_score(torch.Tensor.cpu(pred), torch.Tensor.cpu(y))))\n",
        "      if accuracy_score(torch.Tensor.cpu(pred), torch.Tensor.cpu(y)) > best_pred:\n",
        "        best_pred = accuracy_score(torch.Tensor.cpu(pred), torch.Tensor.cpu(y))\n",
        "        torch.save(model, '/content/drive/MyDrive/Colab Notebooks/best_CNN.pt')"
      ],
      "metadata": {
        "id": "jLcsuqZAVQHw",
        "outputId": "7d4fe5f6-b29d-4a08-f345-0b452271fb67",
        "colab": {
          "base_uri": "https://localhost:8080/"
        }
      },
      "execution_count": null,
      "outputs": [
        {
          "output_type": "stream",
          "name": "stderr",
          "text": [
            "100%|██████████| 42/42 [05:26<00:00,  7.78s/it]\n"
          ]
        },
        {
          "output_type": "stream",
          "name": "stdout",
          "text": [
            "Epoch: 0 | Loss: 0.9592\n",
            "Validation Accuracy 0.4167\n"
          ]
        },
        {
          "output_type": "stream",
          "name": "stderr",
          "text": [
            "100%|██████████| 42/42 [05:32<00:00,  7.92s/it]\n"
          ]
        },
        {
          "output_type": "stream",
          "name": "stdout",
          "text": [
            "Epoch: 1 | Loss: 0.8957\n",
            "Validation Accuracy 0.4667\n"
          ]
        },
        {
          "output_type": "stream",
          "name": "stderr",
          "text": [
            "100%|██████████| 42/42 [05:27<00:00,  7.80s/it]\n"
          ]
        },
        {
          "output_type": "stream",
          "name": "stdout",
          "text": [
            "Epoch: 2 | Loss: 0.8825\n",
            "Validation Accuracy 0.4667\n"
          ]
        },
        {
          "output_type": "stream",
          "name": "stderr",
          "text": [
            "100%|██████████| 42/42 [05:40<00:00,  8.11s/it]\n"
          ]
        },
        {
          "output_type": "stream",
          "name": "stdout",
          "text": [
            "Epoch: 3 | Loss: 0.8616\n",
            "Validation Accuracy 0.5000\n"
          ]
        },
        {
          "output_type": "stream",
          "name": "stderr",
          "text": [
            "100%|██████████| 42/42 [05:37<00:00,  8.05s/it]\n"
          ]
        },
        {
          "output_type": "stream",
          "name": "stdout",
          "text": [
            "Epoch: 4 | Loss: 0.9232\n",
            "Validation Accuracy 0.3833\n"
          ]
        },
        {
          "output_type": "stream",
          "name": "stderr",
          "text": [
            "100%|██████████| 42/42 [05:42<00:00,  8.15s/it]\n"
          ]
        },
        {
          "output_type": "stream",
          "name": "stdout",
          "text": [
            "Epoch: 5 | Loss: 0.9170\n",
            "Validation Accuracy 0.4167\n"
          ]
        },
        {
          "output_type": "stream",
          "name": "stderr",
          "text": [
            "100%|██████████| 42/42 [05:25<00:00,  7.74s/it]\n"
          ]
        },
        {
          "output_type": "stream",
          "name": "stdout",
          "text": [
            "Epoch: 6 | Loss: 0.8420\n",
            "Validation Accuracy 0.5000\n"
          ]
        },
        {
          "output_type": "stream",
          "name": "stderr",
          "text": [
            "100%|██████████| 42/42 [05:40<00:00,  8.11s/it]\n"
          ]
        },
        {
          "output_type": "stream",
          "name": "stdout",
          "text": [
            "Epoch: 7 | Loss: 0.9211\n",
            "Validation Accuracy 0.5167\n"
          ]
        },
        {
          "output_type": "stream",
          "name": "stderr",
          "text": [
            "100%|██████████| 42/42 [05:34<00:00,  7.96s/it]\n"
          ]
        },
        {
          "output_type": "stream",
          "name": "stdout",
          "text": [
            "Epoch: 8 | Loss: 0.9336\n",
            "Validation Accuracy 0.5000\n"
          ]
        },
        {
          "output_type": "stream",
          "name": "stderr",
          "text": [
            "100%|██████████| 42/42 [05:28<00:00,  7.82s/it]\n"
          ]
        },
        {
          "output_type": "stream",
          "name": "stdout",
          "text": [
            "Epoch: 9 | Loss: 0.8555\n",
            "Validation Accuracy 0.4667\n"
          ]
        },
        {
          "output_type": "stream",
          "name": "stderr",
          "text": [
            "100%|██████████| 42/42 [05:32<00:00,  7.91s/it]\n"
          ]
        },
        {
          "output_type": "stream",
          "name": "stdout",
          "text": [
            "Epoch: 10 | Loss: 0.8562\n",
            "Validation Accuracy 0.4833\n"
          ]
        },
        {
          "output_type": "stream",
          "name": "stderr",
          "text": [
            "100%|██████████| 42/42 [05:20<00:00,  7.63s/it]\n"
          ]
        },
        {
          "output_type": "stream",
          "name": "stdout",
          "text": [
            "Epoch: 11 | Loss: 0.8481\n",
            "Validation Accuracy 0.5333\n"
          ]
        },
        {
          "output_type": "stream",
          "name": "stderr",
          "text": [
            "100%|██████████| 42/42 [05:33<00:00,  7.94s/it]\n"
          ]
        },
        {
          "output_type": "stream",
          "name": "stdout",
          "text": [
            "Epoch: 12 | Loss: 0.7970\n",
            "Validation Accuracy 0.6167\n"
          ]
        },
        {
          "output_type": "stream",
          "name": "stderr",
          "text": [
            "100%|██████████| 42/42 [05:24<00:00,  7.72s/it]\n"
          ]
        },
        {
          "output_type": "stream",
          "name": "stdout",
          "text": [
            "Epoch: 13 | Loss: 0.8143\n",
            "Validation Accuracy 0.5667\n"
          ]
        },
        {
          "output_type": "stream",
          "name": "stderr",
          "text": [
            "100%|██████████| 42/42 [05:38<00:00,  8.05s/it]\n"
          ]
        },
        {
          "output_type": "stream",
          "name": "stdout",
          "text": [
            "Epoch: 14 | Loss: 0.8484\n",
            "Validation Accuracy 0.4833\n"
          ]
        },
        {
          "output_type": "stream",
          "name": "stderr",
          "text": [
            " 21%|██▏       | 9/42 [01:09<04:13,  7.67s/it]"
          ]
        }
      ]
    }
  ]
}