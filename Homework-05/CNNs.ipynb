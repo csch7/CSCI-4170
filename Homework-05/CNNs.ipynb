{
  "nbformat": 4,
  "nbformat_minor": 0,
  "metadata": {
    "colab": {
      "provenance": [],
      "authorship_tag": "ABX9TyOOj0hUeiqJkY6IMMTzqeu3",
      "include_colab_link": true
    },
    "kernelspec": {
      "name": "python3",
      "display_name": "Python 3"
    },
    "language_info": {
      "name": "python"
    }
  },
  "cells": [
    {
      "cell_type": "markdown",
      "metadata": {
        "id": "view-in-github",
        "colab_type": "text"
      },
      "source": [
        "<a href=\"https://colab.research.google.com/github/csch7/CSCI-4170/blob/main/Homework-05/CNNs.ipynb\" target=\"_parent\"><img src=\"https://colab.research.google.com/assets/colab-badge.svg\" alt=\"Open In Colab\"/></a>"
      ]
    },
    {
      "cell_type": "code",
      "execution_count": 22,
      "metadata": {
        "id": "euz2B9VeATjS",
        "colab": {
          "base_uri": "https://localhost:8080/"
        },
        "outputId": "51530602-e82d-404e-c641-5f57c1241962"
      },
      "outputs": [
        {
          "output_type": "stream",
          "name": "stdout",
          "text": [
            "Drive already mounted at /content/drive; to attempt to forcibly remount, call drive.mount(\"/content/drive\", force_remount=True).\n"
          ]
        }
      ],
      "source": [
        "import numpy as np\n",
        "import matplotlib.pyplot as plt\n",
        "import torchvision\n",
        "import torch\n",
        "\n",
        "from google.colab import drive\n",
        "\n",
        "drive.mount('/content/drive')\n",
        "\n",
        "im_transform = torchvision.transforms.Compose([torchvision.transforms.Resize((256,256)),torchvision.transforms.ToTensor(),\n",
        "                                               torchvision.transforms.Normalize(mean=[0.485, 0.456, 0.406], std=[0.229, 0.224, 0.225])])\n",
        "\n",
        "train_dat = torchvision.datasets.ImageFolder('/content/drive/MyDrive/Colab Notebooks/apple_plant_disease/Train/Train', transform = im_transform)\n",
        "train_loader = torch.utils.data.DataLoader(train_dat, batch_size = 32, shuffle = True)\n",
        "valid_dat = torchvision.datasets.ImageFolder('/content/drive/MyDrive/Colab Notebooks/apple_plant_disease/Validation/Validation', transform = im_transform)\n",
        "valid_loader = torch.utils.data.DataLoader(valid_dat, batch_size=len(valid_dat), shuffle = True)\n",
        "test_dat = torchvision.datasets.ImageFolder('/content/drive/MyDrive/Colab Notebooks/apple_plant_disease/Test/Test', transform = im_transform)\n",
        "test_loader = torch.utils.data.DataLoader(test_dat, batch_size = len(test_dat))\n"
      ]
    },
    {
      "cell_type": "code",
      "source": [],
      "metadata": {
        "id": "3RReed6X-QKy"
      },
      "execution_count": null,
      "outputs": []
    },
    {
      "cell_type": "code",
      "source": [
        "from torch import nn\n",
        "\n",
        "class CNN(nn.Module):\n",
        "  def __init__(self):\n",
        "    super().__init__()\n",
        "    self.conv1 = nn.Conv2d(3, 32, kernel_size=(3,3), stride = 1, padding = 1)\n",
        "    self.conv2 = nn.Conv2d(32, 32, kernel_size=(3,3), stride = 1, padding = 1)\n",
        "    self.conv3 = nn.Conv2d(32, 16, kernel_size=(3,3), stride = 1, padding = 1)\n",
        "    self.pool = nn.MaxPool2d((2,2))\n",
        "    self.relu = nn.ReLU()\n",
        "    self.fc1 = nn.Linear(16*32*32, 1024)\n",
        "    self.fc2 = nn.Linear(1024, 128)\n",
        "    self.fc3 = nn.Linear(128, 3)\n",
        "    self.sm = nn.Softmax(dim=1)\n",
        "\n",
        "  def forward(self, x):\n",
        "    x = self.pool(self.relu(self.conv1(x)))\n",
        "    x = self.pool(self.relu(self.conv2(x)))\n",
        "    x = self.pool(self.relu(self.conv3(x)))\n",
        "    x = torch.flatten(x, 1)\n",
        "    x = self.relu(self.fc1(x))\n",
        "    x = self.relu(self.fc2(x))\n",
        "    x = self.relu(self.fc3(x))\n",
        "    return self.sm(x)\n",
        "\n",
        "\n"
      ],
      "metadata": {
        "id": "MvXnY6LRJX6O"
      },
      "execution_count": 20,
      "outputs": []
    },
    {
      "cell_type": "code",
      "source": [
        "from torch import optim\n",
        "from sklearn.metrics import accuracy_score\n",
        "from tqdm import tqdm\n",
        "\n",
        "epochs = 30\n",
        "lr = 0.001\n",
        "model = CNN()\n",
        "# model.to(torch.device('cuda'))\n",
        "loss_fn = nn.CrossEntropyLoss()\n",
        "optimizer = optim.Adam(model.parameters(), lr)\n",
        "\n",
        "for e in range(epochs):\n",
        "  model.train()\n",
        "  losses = []\n",
        "  for i, (x, y) in tqdm(enumerate(train_loader), total=len(train_loader)):\n",
        "    optimizer.zero_grad()\n",
        "    # x = x.to(torch.device('cuda'))\n",
        "    # y = y.to(torch.device('cuda'))\n",
        "    pred = model(x)\n",
        "    loss = loss_fn(pred, y)\n",
        "    losses.append(loss.item())\n",
        "    loss.backward()\n",
        "    optimizer.step()\n",
        "  print(\"Epoch: {} | Loss: {:.4f}\".format(e,np.mean(losses)))\n",
        "  best_pred = 0\n",
        "  model.eval()\n",
        "  with torch.no_grad():\n",
        "    for (x, y) in valid_loader:\n",
        "      # x = x.to(torch.device('cuda'))\n",
        "      pred = torch.argmax(model(x),1)\n",
        "      print(\"Validation Accuracy {:.4f}\".format(accuracy_score(torch.Tensor.cpu(pred), torch.Tensor.cpu(y))))\n",
        "      if accuracy_score(torch.Tensor.cpu(pred), torch.Tensor.cpu(y)) >= best_pred:\n",
        "        best_pred = accuracy_score(torch.Tensor.cpu(pred), torch.Tensor.cpu(y))\n",
        "        torch.save(model, '/content/drive/MyDrive/Colab Notebooks/best_CNN.pt')"
      ],
      "metadata": {
        "id": "jLcsuqZAVQHw",
        "colab": {
          "base_uri": "https://localhost:8080/",
          "height": 211
        },
        "outputId": "30a7aa96-1bee-4b39-9d96-a7cbb2d45fb0"
      },
      "execution_count": 4,
      "outputs": [
        {
          "output_type": "error",
          "ename": "NameError",
          "evalue": "name 'CNN' is not defined",
          "traceback": [
            "\u001b[0;31m---------------------------------------------------------------------------\u001b[0m",
            "\u001b[0;31mNameError\u001b[0m                                 Traceback (most recent call last)",
            "\u001b[0;32m<ipython-input-4-44694705d15c>\u001b[0m in \u001b[0;36m<cell line: 0>\u001b[0;34m()\u001b[0m\n\u001b[1;32m      5\u001b[0m \u001b[0mepochs\u001b[0m \u001b[0;34m=\u001b[0m \u001b[0;36m30\u001b[0m\u001b[0;34m\u001b[0m\u001b[0;34m\u001b[0m\u001b[0m\n\u001b[1;32m      6\u001b[0m \u001b[0mlr\u001b[0m \u001b[0;34m=\u001b[0m \u001b[0;36m0.001\u001b[0m\u001b[0;34m\u001b[0m\u001b[0;34m\u001b[0m\u001b[0m\n\u001b[0;32m----> 7\u001b[0;31m \u001b[0mmodel\u001b[0m \u001b[0;34m=\u001b[0m \u001b[0mCNN\u001b[0m\u001b[0;34m(\u001b[0m\u001b[0;34m)\u001b[0m\u001b[0;34m\u001b[0m\u001b[0;34m\u001b[0m\u001b[0m\n\u001b[0m\u001b[1;32m      8\u001b[0m \u001b[0;31m# model.to(torch.device('cuda'))\u001b[0m\u001b[0;34m\u001b[0m\u001b[0;34m\u001b[0m\u001b[0m\n\u001b[1;32m      9\u001b[0m \u001b[0mloss_fn\u001b[0m \u001b[0;34m=\u001b[0m \u001b[0mnn\u001b[0m\u001b[0;34m.\u001b[0m\u001b[0mCrossEntropyLoss\u001b[0m\u001b[0;34m(\u001b[0m\u001b[0;34m)\u001b[0m\u001b[0;34m\u001b[0m\u001b[0;34m\u001b[0m\u001b[0m\n",
            "\u001b[0;31mNameError\u001b[0m: name 'CNN' is not defined"
          ]
        }
      ]
    },
    {
      "cell_type": "code",
      "source": [
        "import torchvision\n",
        "import torch\n",
        "from torch import optim\n",
        "from torch import nn\n",
        "from sklearn.metrics import accuracy_score\n",
        "from tqdm import tqdm\n",
        "\n",
        "model = torchvision.models.GoogLeNet()\n",
        "epochs = 15\n",
        "lr = 0.001\n",
        "loss_fn = nn.CrossEntropyLoss()\n",
        "optimizer = optim.Adam(model.parameters(), lr)\n",
        "\n",
        "for e in range(epochs):\n",
        "  model.train()\n",
        "  losses = []\n",
        "  for i, (x, y) in tqdm(enumerate(train_loader), total=len(train_loader)):\n",
        "    optimizer.zero_grad()\n",
        "    # x = x.to(torch.device('cuda'))\n",
        "    # y = y.to(torch.device('cuda'))\n",
        "    pred = model(x)\n",
        "    loss = loss_fn(pred.logits, y)\n",
        "    losses.append(loss.item())\n",
        "    loss.backward()\n",
        "    optimizer.step()\n",
        "  print(\"Epoch: {} | Loss: {:.4f}\".format(e,np.mean(losses)))\n",
        "  best_pred = 0\n",
        "  model.eval()\n",
        "  with torch.no_grad():\n",
        "    for (x, y) in valid_loader:\n",
        "      # x = x.to(torch.device('cuda'))\n",
        "      pred = torch.argmax(model(x),1)\n",
        "      print(\"Validation Accuracy {:.4f}\".format(accuracy_score(pred, y)))\n",
        "      if accuracy_score(pred, y) >= best_pred:\n",
        "        best_pred = accuracy_score(pred, y)\n",
        "        torch.save(model, '/content/drive/MyDrive/Colab Notebooks/best_googlenet.pt')"
      ],
      "metadata": {
        "id": "pvFAXkcLA-OC",
        "outputId": "f16f02c1-d0cb-462c-b432-5a275960e48a",
        "colab": {
          "base_uri": "https://localhost:8080/"
        }
      },
      "execution_count": 15,
      "outputs": [
        {
          "output_type": "stream",
          "name": "stderr",
          "text": [
            "/usr/local/lib/python3.11/dist-packages/torchvision/models/googlenet.py:47: FutureWarning: The default weight initialization of GoogleNet will be changed in future releases of torchvision. If you wish to keep the old behavior (which leads to long initialization times due to scipy/scipy#11299), please set init_weights=True.\n",
            "  warnings.warn(\n",
            "100%|██████████| 42/42 [11:37<00:00, 16.61s/it]\n"
          ]
        },
        {
          "output_type": "stream",
          "name": "stdout",
          "text": [
            "Epoch: 0 | Loss: 1.1573\n",
            "Validation Accuracy 0.7333\n"
          ]
        },
        {
          "output_type": "stream",
          "name": "stderr",
          "text": [
            "100%|██████████| 42/42 [11:38<00:00, 16.62s/it]\n"
          ]
        },
        {
          "output_type": "stream",
          "name": "stdout",
          "text": [
            "Epoch: 1 | Loss: 0.2938\n",
            "Validation Accuracy 0.8667\n"
          ]
        },
        {
          "output_type": "stream",
          "name": "stderr",
          "text": [
            "100%|██████████| 42/42 [12:02<00:00, 17.21s/it]\n"
          ]
        },
        {
          "output_type": "stream",
          "name": "stdout",
          "text": [
            "Epoch: 2 | Loss: 0.2526\n",
            "Validation Accuracy 0.8667\n"
          ]
        },
        {
          "output_type": "stream",
          "name": "stderr",
          "text": [
            "100%|██████████| 42/42 [11:39<00:00, 16.65s/it]\n"
          ]
        },
        {
          "output_type": "stream",
          "name": "stdout",
          "text": [
            "Epoch: 3 | Loss: 0.2080\n",
            "Validation Accuracy 0.7667\n"
          ]
        },
        {
          "output_type": "stream",
          "name": "stderr",
          "text": [
            "100%|██████████| 42/42 [11:39<00:00, 16.64s/it]\n"
          ]
        },
        {
          "output_type": "stream",
          "name": "stdout",
          "text": [
            "Epoch: 4 | Loss: 0.2162\n",
            "Validation Accuracy 0.9000\n"
          ]
        },
        {
          "output_type": "stream",
          "name": "stderr",
          "text": [
            "100%|██████████| 42/42 [11:37<00:00, 16.61s/it]\n"
          ]
        },
        {
          "output_type": "stream",
          "name": "stdout",
          "text": [
            "Epoch: 5 | Loss: 0.1468\n",
            "Validation Accuracy 0.9333\n"
          ]
        },
        {
          "output_type": "stream",
          "name": "stderr",
          "text": [
            "100%|██████████| 42/42 [11:35<00:00, 16.55s/it]\n"
          ]
        },
        {
          "output_type": "stream",
          "name": "stdout",
          "text": [
            "Epoch: 6 | Loss: 0.1482\n",
            "Validation Accuracy 0.8833\n"
          ]
        },
        {
          "output_type": "stream",
          "name": "stderr",
          "text": [
            "100%|██████████| 42/42 [11:36<00:00, 16.59s/it]\n"
          ]
        },
        {
          "output_type": "stream",
          "name": "stdout",
          "text": [
            "Epoch: 7 | Loss: 0.1484\n",
            "Validation Accuracy 0.9167\n"
          ]
        },
        {
          "output_type": "stream",
          "name": "stderr",
          "text": [
            "100%|██████████| 42/42 [11:38<00:00, 16.63s/it]\n"
          ]
        },
        {
          "output_type": "stream",
          "name": "stdout",
          "text": [
            "Epoch: 8 | Loss: 0.1843\n",
            "Validation Accuracy 0.8667\n"
          ]
        },
        {
          "output_type": "stream",
          "name": "stderr",
          "text": [
            "100%|██████████| 42/42 [11:42<00:00, 16.72s/it]\n"
          ]
        },
        {
          "output_type": "stream",
          "name": "stdout",
          "text": [
            "Epoch: 9 | Loss: 0.1715\n",
            "Validation Accuracy 0.9667\n"
          ]
        },
        {
          "output_type": "stream",
          "name": "stderr",
          "text": [
            "100%|██████████| 42/42 [11:40<00:00, 16.67s/it]\n"
          ]
        },
        {
          "output_type": "stream",
          "name": "stdout",
          "text": [
            "Epoch: 10 | Loss: 0.1142\n",
            "Validation Accuracy 0.9333\n"
          ]
        },
        {
          "output_type": "stream",
          "name": "stderr",
          "text": [
            "100%|██████████| 42/42 [11:38<00:00, 16.62s/it]\n"
          ]
        },
        {
          "output_type": "stream",
          "name": "stdout",
          "text": [
            "Epoch: 11 | Loss: 0.1165\n",
            "Validation Accuracy 0.9333\n"
          ]
        },
        {
          "output_type": "stream",
          "name": "stderr",
          "text": [
            "100%|██████████| 42/42 [11:40<00:00, 16.67s/it]\n"
          ]
        },
        {
          "output_type": "stream",
          "name": "stdout",
          "text": [
            "Epoch: 12 | Loss: 0.1404\n",
            "Validation Accuracy 0.8667\n"
          ]
        },
        {
          "output_type": "stream",
          "name": "stderr",
          "text": [
            "100%|██████████| 42/42 [11:33<00:00, 16.51s/it]\n"
          ]
        },
        {
          "output_type": "stream",
          "name": "stdout",
          "text": [
            "Epoch: 13 | Loss: 0.1278\n",
            "Validation Accuracy 0.9667\n"
          ]
        },
        {
          "output_type": "stream",
          "name": "stderr",
          "text": [
            "100%|██████████| 42/42 [11:38<00:00, 16.63s/it]\n"
          ]
        },
        {
          "output_type": "stream",
          "name": "stdout",
          "text": [
            "Epoch: 14 | Loss: 0.1021\n",
            "Validation Accuracy 0.8500\n"
          ]
        }
      ]
    },
    {
      "cell_type": "code",
      "source": [
        "model = torch.load('/content/drive/MyDrive/Colab Notebooks/best_CNN.pt', weights_only=False)\n",
        "model.eval()\n",
        "with torch.no_grad():\n",
        "  for (x, y) in test_loader:\n",
        "    pred = torch.argmax(model(x),1)\n",
        "    print(\"Test Accuracy {:.4f}\".format(accuracy_score(pred, y)))\n",
        "\n",
        "model = torch.load('/content/drive/MyDrive/Colab Notebooks/best_googlenet.pt', weights_only=False)\n",
        "model.eval()\n",
        "with torch.no_grad():\n",
        "  for (x, y) in test_loader:\n",
        "    pred = torch.argmax(model(x),1)\n",
        "    print(\"Test Accuracy {:.4f}\".format(accuracy_score(pred, y)))"
      ],
      "metadata": {
        "id": "eIhNxS-M9SeV",
        "outputId": "5ed86e0c-fda4-477a-aeab-2ed5267fcd1b",
        "colab": {
          "base_uri": "https://localhost:8080/"
        }
      },
      "execution_count": 24,
      "outputs": [
        {
          "output_type": "stream",
          "name": "stdout",
          "text": [
            "Test Accuracy 0.8733\n",
            "Test Accuracy 0.9200\n"
          ]
        }
      ]
    },
    {
      "cell_type": "code",
      "source": [
        "im_transform = torchvision.transforms.Compose([torchvision.transforms.Resize((256,256)),torchvision.transforms.ToTensor(),\n",
        "                                               torchvision.transforms.RandomRotation(180),\n",
        "                                               torchvision.transforms.RandomHorizontalFlip(),\n",
        "                                               torchvision.transforms.RandomVerticalFlip(),\n",
        "                                               torchvision.transforms.Normalize(mean=[0.485, 0.456, 0.406], std=[0.229, 0.224, 0.225])])\n",
        "\n",
        "train_dat = torchvision.datasets.ImageFolder('/content/drive/MyDrive/Colab Notebooks/apple_plant_disease/Train/Train', transform = im_transform)\n",
        "train_loader = torch.utils.data.DataLoader(train_dat, batch_size = 32, shuffle = True)\n",
        "valid_dat = torchvision.datasets.ImageFolder('/content/drive/MyDrive/Colab Notebooks/apple_plant_disease/Validation/Validation', transform = im_transform)\n",
        "valid_loader = torch.utils.data.DataLoader(valid_dat, batch_size=len(valid_dat), shuffle = True)\n",
        "test_dat = torchvision.datasets.ImageFolder('/content/drive/MyDrive/Colab Notebooks/apple_plant_disease/Test/Test', transform = im_transform)\n",
        "test_loader = torch.utils.data.DataLoader(test_dat, batch_size = len(test_dat))"
      ],
      "metadata": {
        "id": "SKAMnZxJ-_Y1"
      },
      "execution_count": 25,
      "outputs": []
    },
    {
      "cell_type": "code",
      "source": [
        "epochs = 30\n",
        "lr = 0.001\n",
        "model = CNN()\n",
        "# model.to(torch.device('cuda'))\n",
        "loss_fn = nn.CrossEntropyLoss()\n",
        "optimizer = optim.Adam(model.parameters(), lr)\n",
        "\n",
        "for e in range(epochs):\n",
        "  model.train()\n",
        "  losses = []\n",
        "  for i, (x, y) in tqdm(enumerate(train_loader), total=len(train_loader)):\n",
        "    optimizer.zero_grad()\n",
        "    pred = model(x)\n",
        "    loss = loss_fn(pred, y)\n",
        "    losses.append(loss.item())\n",
        "    loss.backward()\n",
        "    optimizer.step()\n",
        "  print(\"Epoch: {} | Loss: {:.4f}\".format(e,np.mean(losses)))\n",
        "  best_pred = 0\n",
        "  model.eval()\n",
        "  with torch.no_grad():\n",
        "    for (x, y) in valid_loader:\n",
        "      pred = torch.argmax(model(x),1)\n",
        "      print(\"Validation Accuracy {:.4f}\".format(accuracy_score(torch.Tensor.cpu(pred), torch.Tensor.cpu(y))))\n",
        "      if accuracy_score(torch.Tensor.cpu(pred), torch.Tensor.cpu(y)) >= best_pred:\n",
        "        best_pred = accuracy_score(torch.Tensor.cpu(pred), torch.Tensor.cpu(y))\n",
        "        torch.save(model, '/content/drive/MyDrive/Colab Notebooks/best_CNN_augmented.pt')"
      ],
      "metadata": {
        "id": "gj2QS7aE_9oX",
        "outputId": "224c2df1-29fb-4a67-e384-11ac2f4fdb2b",
        "colab": {
          "base_uri": "https://localhost:8080/"
        }
      },
      "execution_count": null,
      "outputs": [
        {
          "output_type": "stream",
          "name": "stderr",
          "text": [
            " 90%|█████████ | 38/42 [05:01<00:30,  7.65s/it]"
          ]
        }
      ]
    }
  ]
}