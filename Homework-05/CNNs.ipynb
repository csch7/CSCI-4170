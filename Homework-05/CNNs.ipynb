{
  "nbformat": 4,
  "nbformat_minor": 0,
  "metadata": {
    "colab": {
      "provenance": [],
      "gpuType": "T4",
      "authorship_tag": "ABX9TyO9JjciJ2sbTTi8KQypVh52",
      "include_colab_link": true
    },
    "kernelspec": {
      "name": "python3",
      "display_name": "Python 3"
    },
    "language_info": {
      "name": "python"
    },
    "accelerator": "GPU"
  },
  "cells": [
    {
      "cell_type": "markdown",
      "metadata": {
        "id": "view-in-github",
        "colab_type": "text"
      },
      "source": [
        "<a href=\"https://colab.research.google.com/github/csch7/CSCI-4170/blob/main/Homework-05/CNNs.ipynb\" target=\"_parent\"><img src=\"https://colab.research.google.com/assets/colab-badge.svg\" alt=\"Open In Colab\"/></a>"
      ]
    },
    {
      "cell_type": "code",
      "execution_count": 9,
      "metadata": {
        "id": "euz2B9VeATjS",
        "colab": {
          "base_uri": "https://localhost:8080/"
        },
        "outputId": "ee38a5c6-74e0-4ab6-d137-4da383ca9408"
      },
      "outputs": [
        {
          "output_type": "stream",
          "name": "stdout",
          "text": [
            "Drive already mounted at /content/drive; to attempt to forcibly remount, call drive.mount(\"/content/drive\", force_remount=True).\n"
          ]
        }
      ],
      "source": [
        "import numpy as np\n",
        "import matplotlib.pyplot as plt\n",
        "import torchvision\n",
        "import torch\n",
        "\n",
        "from google.colab import drive\n",
        "\n",
        "drive.mount('/content/drive')\n",
        "\n",
        "im_transform = torchvision.transforms.Compose([torchvision.transforms.Resize((256,256)),torchvision.transforms.ToTensor(), torchvision.transforms.Normalize()])\n",
        "\n",
        "train_dat = torchvision.datasets.ImageFolder('/content/drive/MyDrive/Colab Notebooks/apple_plant_disease/Train/Train', transform = im_transform)\n",
        "train_loader = torch.utils.data.DataLoader(train_dat, batch_size = 32, shuffle = True)\n",
        "valid_dat = torchvision.datasets.ImageFolder('/content/drive/MyDrive/Colab Notebooks/apple_plant_disease/Validation/Validation', transform = im_transform)\n",
        "valid_loader = torch.utils.data.DataLoader(valid_dat, batch_size=len(valid_dat), shuffle = True)\n",
        "test_dat = torchvision.datasets.ImageFolder('/content/drive/MyDrive/Colab Notebooks/apple_plant_disease/Test/Test', transform = im_transform)\n",
        "test_loader = torch.utils.data.DataLoader(test_dat)\n"
      ]
    },
    {
      "cell_type": "code",
      "source": [
        "from torch import nn\n",
        "\n",
        "class CNN(nn.Module):\n",
        "  def __init__(self):\n",
        "    super().__init__()\n",
        "    self.conv_3_64 = nn.Conv2d(3, 64, kernel_size=(3,3), stride = 1, padding = 1)\n",
        "    self.conv_64_64 = nn.Conv2d(64, 64, kernel_size=(3,3), stride = 1, padding = 1)\n",
        "    self.pool = nn.MaxPool2d((2,2))\n",
        "    self.relu = nn.ReLU()\n",
        "    self.fc1 = nn.Linear(64*64*64, 1024)\n",
        "    self.fc2 = nn.Linear(1024, 128)\n",
        "    self.fc3 = nn.Linear(128, 3)\n",
        "    self.sm = nn.Softmax(dim=1)\n",
        "\n",
        "  def forward(self, x):\n",
        "    x = self.pool(self.relu(self.conv_3_64(x)))\n",
        "    x = self.pool(self.relu(self.conv_64_64(x)))\n",
        "    x = torch.flatten(x, 1)\n",
        "    x = self.relu(self.fc1(x))\n",
        "    x = self.relu(self.fc2(x))\n",
        "    x = self.relu(self.fc3(x))\n",
        "    return self.sm(x)\n",
        "\n",
        "\n"
      ],
      "metadata": {
        "id": "MvXnY6LRJX6O"
      },
      "execution_count": 2,
      "outputs": []
    },
    {
      "cell_type": "code",
      "source": [
        "from torch import optim\n",
        "from sklearn.metrics import accuracy_score\n",
        "from tqdm import tqdm\n",
        "\n",
        "epochs = 70\n",
        "lr = 0.01\n",
        "model = CNN()\n",
        "model.to(torch.device('cuda'))\n",
        "loss_fn = nn.CrossEntropyLoss()\n",
        "optimizer = optim.Adam(model.parameters(), lr)\n",
        "\n",
        "for e in range(epochs):\n",
        "  model.train()\n",
        "  losses = []\n",
        "  for i, (x, y) in tqdm(enumerate(train_loader)):\n",
        "    optimizer.zero_grad()\n",
        "    x = x.to(torch.device('cuda'))\n",
        "    y = y.to(torch.device('cuda'))\n",
        "    pred = model(x)\n",
        "    loss = loss_fn(pred, y)\n",
        "    if i%10 == 0:\n",
        "      print(loss)\n",
        "    losses.append(loss.item())\n",
        "    loss.backward()\n",
        "  print(\"Epoch: {} | Loss: {:.4f}\".format(e,np.mean(losses)))\n",
        "  model.eval()\n",
        "  with torch.no_grad():\n",
        "    acc = 0\n",
        "    for (x, y) in valid_loader:\n",
        "      x = x.to(torch.device('cuda'))\n",
        "      pred = torch.argmax(model(x),1)\n",
        "      print(pred)\n",
        "      print(y)\n",
        "      print(\"Validation Accuracy {:.4f}\".format(accuracy_score(torch.Tensor.cpu(pred), torch.Tensor.cpu(y))))"
      ],
      "metadata": {
        "colab": {
          "base_uri": "https://localhost:8080/"
        },
        "id": "jLcsuqZAVQHw",
        "outputId": "de29eedf-9142-4f6a-8ce4-811415a2e171"
      },
      "execution_count": null,
      "outputs": [
        {
          "output_type": "stream",
          "name": "stderr",
          "text": [
            "1it [00:03,  3.35s/it]"
          ]
        },
        {
          "output_type": "stream",
          "name": "stdout",
          "text": [
            "tensor(1.0990, device='cuda:0', grad_fn=<NllLossBackward0>)\n"
          ]
        },
        {
          "output_type": "stream",
          "name": "stderr",
          "text": [
            "11it [00:43,  3.89s/it]"
          ]
        },
        {
          "output_type": "stream",
          "name": "stdout",
          "text": [
            "tensor(1.0996, device='cuda:0', grad_fn=<NllLossBackward0>)\n"
          ]
        },
        {
          "output_type": "stream",
          "name": "stderr",
          "text": [
            "21it [01:24,  4.12s/it]"
          ]
        },
        {
          "output_type": "stream",
          "name": "stdout",
          "text": [
            "tensor(1.0969, device='cuda:0', grad_fn=<NllLossBackward0>)\n"
          ]
        },
        {
          "output_type": "stream",
          "name": "stderr",
          "text": [
            "31it [02:03,  3.77s/it]"
          ]
        },
        {
          "output_type": "stream",
          "name": "stdout",
          "text": [
            "tensor(1.0983, device='cuda:0', grad_fn=<NllLossBackward0>)\n"
          ]
        },
        {
          "output_type": "stream",
          "name": "stderr",
          "text": [
            "41it [02:45,  4.31s/it]"
          ]
        },
        {
          "output_type": "stream",
          "name": "stdout",
          "text": [
            "tensor(1.0985, device='cuda:0', grad_fn=<NllLossBackward0>)\n"
          ]
        },
        {
          "output_type": "stream",
          "name": "stderr",
          "text": [
            "42it [02:47,  3.98s/it]\n"
          ]
        },
        {
          "output_type": "stream",
          "name": "stdout",
          "text": [
            "Epoch: 0 | Loss: 1.0987\n",
            "tensor([1, 1, 1, 1, 1, 1, 1, 1, 1, 1, 1, 1, 1, 1, 1, 1, 1, 1, 1, 1, 1, 1, 1, 1,\n",
            "        1, 1, 1, 1, 1, 1, 1, 1, 1, 1, 1, 1, 1, 1, 1, 1, 1, 1, 1, 1, 1, 1, 1, 1,\n",
            "        1, 1, 1, 1, 1, 1, 1, 1, 1, 1, 1, 1], device='cuda:0')\n",
            "tensor([1, 1, 2, 1, 0, 2, 0, 2, 1, 2, 0, 2, 1, 0, 0, 1, 0, 2, 1, 1, 0, 2, 0, 2,\n",
            "        0, 1, 2, 2, 0, 0, 2, 2, 0, 1, 2, 1, 0, 1, 0, 1, 1, 2, 2, 2, 0, 2, 0, 0,\n",
            "        2, 1, 1, 1, 2, 1, 1, 0, 0, 1, 0, 2])\n",
            "Validation Accuracy 0.3333\n"
          ]
        },
        {
          "output_type": "stream",
          "name": "stderr",
          "text": [
            "1it [00:04,  4.12s/it]"
          ]
        },
        {
          "output_type": "stream",
          "name": "stdout",
          "text": [
            "tensor(1.0996, device='cuda:0', grad_fn=<NllLossBackward0>)\n"
          ]
        },
        {
          "output_type": "stream",
          "name": "stderr",
          "text": [
            "11it [00:45,  4.30s/it]"
          ]
        },
        {
          "output_type": "stream",
          "name": "stdout",
          "text": [
            "tensor(1.0981, device='cuda:0', grad_fn=<NllLossBackward0>)\n"
          ]
        },
        {
          "output_type": "stream",
          "name": "stderr",
          "text": [
            "21it [01:26,  4.39s/it]"
          ]
        },
        {
          "output_type": "stream",
          "name": "stdout",
          "text": [
            "tensor(1.0981, device='cuda:0', grad_fn=<NllLossBackward0>)\n"
          ]
        },
        {
          "output_type": "stream",
          "name": "stderr",
          "text": [
            "31it [02:06,  4.13s/it]"
          ]
        },
        {
          "output_type": "stream",
          "name": "stdout",
          "text": [
            "tensor(1.0999, device='cuda:0', grad_fn=<NllLossBackward0>)\n"
          ]
        },
        {
          "output_type": "stream",
          "name": "stderr",
          "text": [
            "33it [02:13,  3.80s/it]"
          ]
        }
      ]
    }
  ]
}